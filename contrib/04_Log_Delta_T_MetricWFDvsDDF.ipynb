{
 "cells": [
  {
   "cell_type": "markdown",
   "metadata": {},
   "source": [
    "## Develop Log_dt Metric\n",
    "\n",
    "Gordon Richards (Drexel), Weixiang Yu (Drexel), with input from Paolo Coppi (Yale); August 2020"
   ]
  },
  {
   "cell_type": "markdown",
   "metadata": {},
   "source": [
    "This notebook is an exploration of the distribution of pairs of observations.  We are comparing DDF observations to WFD observations in the same part of the sky and comparing 4 different opSims created with the DDFs specifically in mind (or that serve as a baseline for them)."
   ]
  },
  {
   "cell_type": "code",
   "execution_count": 1,
   "metadata": {},
   "outputs": [],
   "source": [
    "#Please enter your SciServer username between the single quotes below!\n",
    "your_username = ''"
   ]
  },
  {
   "cell_type": "markdown",
   "metadata": {},
   "source": [
    "<!-- <b>Now we can start computing metrics to use for comparing different opSims.</b> -->\n",
    "\n",
    "### 0. Software Setup (repeat each session)"
   ]
  },
  {
   "cell_type": "code",
   "execution_count": 2,
   "metadata": {},
   "outputs": [],
   "source": [
    "# import matplotlib to show plots inline.\n",
    "%matplotlib inline\n",
    "import matplotlib.pyplot as plt\n",
    "import numpy as np\n",
    "import matplotlib as mpl\n",
    "import os"
   ]
  },
  {
   "cell_type": "code",
   "execution_count": 3,
   "metadata": {
    "jupyter": {
     "source_hidden": true
    }
   },
   "outputs": [],
   "source": [
    "pgf_with_latex = {                      # setup matplotlib to use latex for output\n",
    "    \"axes.linewidth\":1.2,               # width of box, 2 is too wide, 1 is too narrow\n",
    "    \"pgf.texsystem\": \"pdflatex\",        # change this if using xetex or lautex\n",
    "#     \"text.usetex\": True,                # use LaTeX to write all text\n",
    "    \"font.family\": \"serif\",\n",
    "    \"font.serif\": [],                   # blank entries should cause plots to inherit fonts from the document\n",
    "    \"font.sans-serif\": [],\n",
    "    \"font.monospace\": [],\n",
    "    \"axes.labelsize\": 20,               # LaTeX default is 10pt font, font size of axis text label\n",
    "    \"axes.labelpad\" : 6,                # Distance between label and axis    \n",
    "    \"axes.formatter.limits\":[-99,99],   # use sci notation if log10 of axis range is smaller than first or larger than second.\n",
    "                                        # GTR: Actually *don't* -- should change the axis label instead.  E.g., \"Flux Density (10^-17 ergs/s/cm^2)\" \n",
    "                                        # This is a hack b/c there doesn't seem to be an rcParams version of\n",
    "                                        # axes.ticklabel_format(style='plain')\n",
    "    #\"axes.formatter.style\":\"plain\",    # Turn off multiplicative offsets (sci notation) to the axes [GTR: Doesn't work]\n",
    "    \"axes.formatter.useoffset\":False,   # Turn off additive offsets to the axes\n",
    "    \"font.size\": 20,\n",
    "    \"legend.fontsize\": 20,              # Make the legend/label fonts a little smaller\n",
    "    \"xtick.labelsize\": 20,              # Font size of numbers \n",
    "    \"ytick.labelsize\": 20,\n",
    "    \"xtick.direction\": \"in\",\n",
    "    \"ytick.direction\": \"in\",\n",
    "    \"xtick.minor.visible\": True,\n",
    "    \"ytick.minor.visible\": True,\n",
    "    \"xtick.major.top\":True,\n",
    "    \"xtick.minor.top\":True,\n",
    "    \"ytick.major.right\":True,\n",
    "    \"ytick.minor.right\":True,\n",
    "    'xtick.major.width':1.0, \n",
    "    'xtick.minor.width':1.0, \n",
    "    'ytick.major.width':1.0, \n",
    "    'ytick.minor.width':1.0, \n",
    "    'xtick.major.size':8,             # size of tickmarks in points\n",
    "    'xtick.minor.size':4, \n",
    "    'ytick.major.size':8, \n",
    "    'ytick.minor.size':4,\n",
    "    'xtick.major.pad':8,               # distance between box and numbers\n",
    "    'ytick.major.pad':8,\n",
    "#     \"figure.figsize\": figsze(1,1),     # default fig size of 0.9 textwidth\n",
    "#     \"pgf.preamble\": [\n",
    "#         r\"\\usepackage[utf8x]{inputenc}\",    # use utf8 fonts because your computer can handle it\n",
    "#         r\"\\usepackage[T1]{fontenc}\",        # plots will be generated using this preamble\n",
    "#         ]\n",
    "    }\n",
    "\n",
    "mpl.rcParams.update(pgf_with_latex)"
   ]
  },
  {
   "cell_type": "markdown",
   "metadata": {},
   "source": [
    "Import the sims_maf modules needed."
   ]
  },
  {
   "cell_type": "code",
   "execution_count": 4,
   "metadata": {},
   "outputs": [],
   "source": [
    "# import our python modules\n",
    "import lsst.sims.maf.db as db\n",
    "import lsst.sims.maf.metrics as metrics\n",
    "import lsst.sims.maf.slicers as slicers\n",
    "import lsst.sims.maf.stackers as stackers\n",
    "import lsst.sims.maf.plots as plots\n",
    "import lsst.sims.maf.metricBundles as metricBundles"
   ]
  },
  {
   "cell_type": "code",
   "execution_count": 5,
   "metadata": {},
   "outputs": [],
   "source": [
    "# add opsimUtils module path to search\n",
    "import sys\n",
    "sys.path.insert(0, '../Scripts_NBs/')"
   ]
  },
  {
   "cell_type": "code",
   "execution_count": 6,
   "metadata": {},
   "outputs": [],
   "source": [
    "from opsimUtils import *"
   ]
  },
  {
   "cell_type": "markdown",
   "metadata": {},
   "source": [
    "### 1. Define `LogTgaps` Metric"
   ]
  },
  {
   "cell_type": "code",
   "execution_count": 7,
   "metadata": {},
   "outputs": [
    {
     "data": {
      "text/plain": [
       "array([-3.45939249,  3.56229286])"
      ]
     },
     "execution_count": 7,
     "metadata": {},
     "output_type": "execute_result"
    }
   ],
   "source": [
    "# the base 10 log of 30sec and 10 years in dasy are\n",
    "# but the bins really aren't needed for the metric, the metric only return Tgaps. \n",
    "np.log10([30/3600/24, 3650])"
   ]
  },
  {
   "cell_type": "code",
   "execution_count": 8,
   "metadata": {},
   "outputs": [],
   "source": [
    "from lsst.sims.maf.metrics import BaseMetric\n",
    "\n",
    "class LogTgapsMetric(BaseMetric):\n",
    "    \"\"\"Histogram the times of the gaps between observations.\n",
    "\n",
    "\n",
    "    Measure the gaps between observations.  By default, only gaps\n",
    "    between neighboring visits are computed.  If allGaps is set to true, all gaps are\n",
    "    computed (i.e., if there are observations at 10, 20, 30 and 40 the default will\n",
    "    return a histogram of [10,10,10] while allGaps returns a histogram of [10,10,10,20,20,30])\n",
    "\n",
    "    Parameters\n",
    "    ----------\n",
    "    timesCol : str, opt\n",
    "        The column name for the exposure times.  Values assumed to be in days.\n",
    "        Default observationStartMJD.\n",
    "    allGaps : bool, opt\n",
    "        Histogram the gaps between all observations (True) or just successive observations (False)?\n",
    "        Default is False. If all gaps are used, this metric can become significantly slower.\n",
    "    bins : np.ndarray, opt\n",
    "        The bins to use for the histogram of time gaps (in days, or same units as timesCol).\n",
    "        Default values are bins from 0 to 2 hours, in 5 minute intervals.\n",
    "\n",
    "    Returns a histogram at each slice point; these histograms can be combined and plotted using the\n",
    "    'SummaryHistogram plotter'.\n",
    "     \"\"\"\n",
    "\n",
    "    def __init__(self, timesCol='observationStartMJD', allGaps=False, bins=np.logspace(-3.46, 3.56, 100),\n",
    "                 units='days', **kwargs):\n",
    "        # Pass the same bins to the plotter.\n",
    "        self.bins = bins\n",
    "        self.timesCol = timesCol\n",
    "        super(LogTgapsMetric, self).__init__(col=[self.timesCol], metricDtype='object', units=units, **kwargs)\n",
    "        self.allGaps = allGaps\n",
    "\n",
    "    def run(self, dataSlice, slicePoint=None):\n",
    "        if dataSlice.size < 2:\n",
    "            return self.badval\n",
    "        times = np.sort(dataSlice[self.timesCol])\n",
    "        if self.allGaps:\n",
    "            allDiffs = []\n",
    "            for i in np.arange(1,times.size,1):\n",
    "                allDiffs.append((times-np.roll(times,i))[i:])\n",
    "            dts = np.concatenate(allDiffs)\n",
    "        else:\n",
    "            dts = np.diff(times)\n",
    "#         result, bins = np.histogram(dts, self.bins)\n",
    "        return dts"
   ]
  },
  {
   "cell_type": "markdown",
   "metadata": {},
   "source": [
    "Load up the 4 opSims that we want to compare.  The AGN SC's proposal, the DESC proposal, the \"Daily\" DDF opSim, and \"baseline\" (for comparison).  With just these 4 I haven't bothered to set things up as a loop over them."
   ]
  },
  {
   "cell_type": "code",
   "execution_count": 9,
   "metadata": {},
   "outputs": [],
   "source": [
    "#Read in an opSim (in this case \"baseline_v1.4_10yrs.db\")\n",
    "opsdb1 = db.OpsimDatabase('/home/idies/workspace/lsst_cadence/FBS_1.5/baseline_v1.5_10yrs.db')\n",
    "opsdb2 = db.OpsimDatabase('/home/idies/workspace/lsst_cadence/FBS_1.5/daily_ddf_v1.5_10yrs.db')\n",
    "opsdb3 = db.OpsimDatabase('/home/idies/workspace/lsst_cadence/FBS_1.5/agnddf_v1.5_10yrs.db')\n",
    "opsdb4 = db.OpsimDatabase('/home/idies/workspace/lsst_cadence/FBS_1.5/descddf_v1.5_10yrs.db')\n",
    "\n",
    "if your_username == '':\n",
    "    raise Exception('Please provide your username!  See the top of this notebook.')\n",
    "    \n",
    "outDir = '/home/idies/scr/tmp/MAFOutput/LogTGaps/ResultDbs/'\n",
    "if not os.path.exists(outDir):\n",
    "    os.makedirs(outDir)\n",
    "    \n",
    "resultsDb = db.ResultsDb(outDir=outDir)"
   ]
  },
  {
   "cell_type": "code",
   "execution_count": 10,
   "metadata": {},
   "outputs": [
    {
     "name": "stdout",
     "output_type": "stream",
     "text": [
      "{'proposalId': 6, 'Coord': (35.707, -4.72)}\n",
      "{'proposalId': 5, 'Coord': (35.707, -4.72)}\n",
      "{'proposalId': 5, 'Coord': (35.707, -4.72)}\n",
      "{'proposalId': 4, 'Coord': (35.707, -4.72)}\n"
     ]
    }
   ],
   "source": [
    "#The DDFs aren't recorded in the same way for each opSim, so we need to figure out which \"proposal\" they correspond to.\n",
    "\n",
    "print(ddfInfo(opsdb1, 'XMM-LSS'))\n",
    "print(ddfInfo(opsdb2, 'XMM-LSS'))\n",
    "print(ddfInfo(opsdb3, 'XMM-LSS'))\n",
    "print(ddfInfo(opsdb4, 'XMM-LSS'))"
   ]
  },
  {
   "cell_type": "markdown",
   "metadata": {},
   "source": [
    "#If we wanted to look at the COSMOS field instead of XMM-LSS, then run this cell instead.\n",
    "\n",
    "print(ddfInfo(opsdb1, 'COSMOS'))\n",
    "print(ddfInfo(opsdb2, 'COSMOS'))\n",
    "print(ddfInfo(opsdb3, 'COSMOS'))\n",
    "print(ddfInfo(opsdb4, 'COSMOS'))"
   ]
  },
  {
   "cell_type": "markdown",
   "metadata": {},
   "source": [
    "### 2. Run Metric at the center of the DDF using pointslicer"
   ]
  },
  {
   "cell_type": "code",
   "execution_count": 11,
   "metadata": {},
   "outputs": [],
   "source": [
    "# metric = is the number of pairs of observations, distributed in log space, thus \"log t-gaps\", which is based on one of the project-defined metrics.\n",
    "metric1 = LogTgapsMetric(allGaps=True)\n",
    "\n",
    "# slicer = a grouping or subdivision of visits for the simulated survey\n",
    "# based on their position on the sky (using a Healpix grid)\n",
    "#COSMOS\n",
    "#slicer1 = slicers.UserPointsSlicer(ra=[150.11], dec=[2.14])\n",
    "#XMMLSS\n",
    "slicer1 = slicers.UserPointsSlicer(ra=[35.707], dec=[-4.72])\n",
    "\n",
    "# constraint = the sql query (or 'select') that selects all visits in r band\n",
    "constraint1 = 'filter = \"r\"'"
   ]
  },
  {
   "cell_type": "markdown",
   "metadata": {},
   "source": [
    "Now set up the metric bundles.  Note that I made one for each opSim.  It is notclear that I need to do this way as I'm not changing the metric, but this is also where we extract the results from, so I think that I have to?"
   ]
  },
  {
   "cell_type": "code",
   "execution_count": 12,
   "metadata": {},
   "outputs": [],
   "source": [
    "# MetricBundle = combination of the metric, slicer, and sqlconstraint\n",
    "ddf_nvisit1 = metricBundles.MetricBundle(metric1, slicer1, constraint1)\n",
    "bundleDict1 = {'logtgaps': ddf_nvisit1}"
   ]
  },
  {
   "cell_type": "code",
   "execution_count": 13,
   "metadata": {},
   "outputs": [],
   "source": [
    "# MetricBundle = combination of the metric, slicer, and sqlconstraint\n",
    "ddf_nvisit2 = metricBundles.MetricBundle(metric1, slicer1, constraint1)\n",
    "bundleDict2 = {'logtgaps': ddf_nvisit2}"
   ]
  },
  {
   "cell_type": "code",
   "execution_count": 14,
   "metadata": {},
   "outputs": [],
   "source": [
    "# MetricBundle = combination of the metric, slicer, and sqlconstraint\n",
    "ddf_nvisit3 = metricBundles.MetricBundle(metric1, slicer1, constraint1)\n",
    "bundleDict3 = {'logtgaps': ddf_nvisit3}"
   ]
  },
  {
   "cell_type": "code",
   "execution_count": 15,
   "metadata": {},
   "outputs": [],
   "source": [
    "# MetricBundle = combination of the metric, slicer, and sqlconstraint\n",
    "ddf_nvisit4 = metricBundles.MetricBundle(metric1, slicer1, constraint1)\n",
    "bundleDict4 = {'logtgaps': ddf_nvisit4}"
   ]
  },
  {
   "cell_type": "markdown",
   "metadata": {},
   "source": [
    "Now run the metric on each of the opSims defined above."
   ]
  },
  {
   "cell_type": "code",
   "execution_count": 16,
   "metadata": {},
   "outputs": [
    {
     "name": "stdout",
     "output_type": "stream",
     "text": [
      "Querying database SummaryAllProps with constraint filter = \"r\" for columns ['observationStartMJD', 'fieldDec', 'fieldRA']\n",
      "Found 491676 visits\n",
      "Running:  ['logtgaps']\n",
      "Completed metric generation.\n",
      "Running reduce methods.\n",
      "Running summary statistics.\n",
      "Completed.\n"
     ]
    }
   ],
   "source": [
    "group1 = metricBundles.MetricBundleGroup(bundleDict1, opsdb1, outDir=outDir, resultsDb=resultsDb)\n",
    "group1.runAll()"
   ]
  },
  {
   "cell_type": "code",
   "execution_count": 17,
   "metadata": {},
   "outputs": [
    {
     "name": "stdout",
     "output_type": "stream",
     "text": [
      "Querying database SummaryAllProps with constraint filter = \"r\" for columns ['observationStartMJD', 'fieldDec', 'fieldRA']\n",
      "Found 466286 visits\n",
      "Running:  ['logtgaps']\n",
      "Completed metric generation.\n",
      "Running reduce methods.\n",
      "Running summary statistics.\n",
      "Completed.\n"
     ]
    }
   ],
   "source": [
    "group2 = metricBundles.MetricBundleGroup(bundleDict2, opsdb2, outDir=outDir, resultsDb=resultsDb)\n",
    "group2.runAll()"
   ]
  },
  {
   "cell_type": "code",
   "execution_count": 18,
   "metadata": {},
   "outputs": [
    {
     "name": "stdout",
     "output_type": "stream",
     "text": [
      "Querying database SummaryAllProps with constraint filter = \"r\" for columns ['observationStartMJD', 'fieldDec', 'fieldRA']\n",
      "Found 469008 visits\n",
      "Running:  ['logtgaps']\n",
      "Completed metric generation.\n",
      "Running reduce methods.\n",
      "Running summary statistics.\n",
      "Completed.\n"
     ]
    }
   ],
   "source": [
    "group3 = metricBundles.MetricBundleGroup(bundleDict3, opsdb3, outDir=outDir, resultsDb=resultsDb)\n",
    "group3.runAll()"
   ]
  },
  {
   "cell_type": "code",
   "execution_count": 19,
   "metadata": {},
   "outputs": [
    {
     "name": "stdout",
     "output_type": "stream",
     "text": [
      "Querying database SummaryAllProps with constraint filter = \"r\" for columns ['observationStartMJD', 'fieldDec', 'fieldRA']\n",
      "Found 473116 visits\n",
      "Running:  ['logtgaps']\n",
      "Completed metric generation.\n",
      "Running reduce methods.\n",
      "Running summary statistics.\n",
      "Completed.\n"
     ]
    }
   ],
   "source": [
    "group4 = metricBundles.MetricBundleGroup(bundleDict4, opsdb4, outDir=outDir, resultsDb=resultsDb)\n",
    "group4.runAll()"
   ]
  },
  {
   "cell_type": "markdown",
   "metadata": {},
   "source": [
    "Now make a plot comparing the pair distribution in log delta T for each of those opSims."
   ]
  },
  {
   "cell_type": "code",
   "execution_count": 20,
   "metadata": {},
   "outputs": [],
   "source": [
    "mask1 = ddf_nvisit1.metricValues.mask\n",
    "data1 = ddf_nvisit1.metricValues.data[~mask1]"
   ]
  },
  {
   "cell_type": "code",
   "execution_count": 21,
   "metadata": {},
   "outputs": [],
   "source": [
    "mask2 = ddf_nvisit2.metricValues.mask\n",
    "data2 = ddf_nvisit2.metricValues.data[~mask2]"
   ]
  },
  {
   "cell_type": "code",
   "execution_count": 22,
   "metadata": {},
   "outputs": [],
   "source": [
    "mask3 = ddf_nvisit3.metricValues.mask\n",
    "data3 = ddf_nvisit3.metricValues.data[~mask3]"
   ]
  },
  {
   "cell_type": "code",
   "execution_count": 23,
   "metadata": {},
   "outputs": [],
   "source": [
    "mask4 = ddf_nvisit4.metricValues.mask\n",
    "data4 = ddf_nvisit4.metricValues.data[~mask4]"
   ]
  },
  {
   "cell_type": "code",
   "execution_count": 24,
   "metadata": {},
   "outputs": [
    {
     "data": {
      "text/plain": [
       "<matplotlib.legend.Legend at 0x7fc36501dd68>"
      ]
     },
     "execution_count": 24,
     "metadata": {},
     "output_type": "execute_result"
    },
    {
     "name": "stderr",
     "output_type": "stream",
     "text": [
      "/home/idies/lsst/python/miniconda3-4.7.10/envs/lsst-scipipe-4d7b902/lib/python3.7/site-packages/matplotlib/font_manager.py:1241: UserWarning: findfont: Font family ['serif'] not found. Falling back to DejaVu Sans.\n",
      "  (prop.get_family(), self.defaultFamily[fontext]))\n"
     ]
    },
    {
     "data": {
      "image/png": "[encoded data removed]",
      "text/plain": [
       "<Figure size 720x576 with 1 Axes>"
      ]
     },
     "metadata": {
      "needs_background": "light"
     },
     "output_type": "display_data"
    }
   ],
   "source": [
    "fig = plt.figure(figsize=(10,8))\n",
    "plt.hist(np.log10(data1[0]), bins=50, log=True, histtype='step', label='baseline')\n",
    "plt.hist(np.log10(data2[0]), bins=50, log=True, histtype='step', label='daily')\n",
    "plt.hist(np.log10(data3[0]), bins=50, log=True, histtype='step', label='agn', linewidth=2)\n",
    "plt.hist(np.log10(data4[0]), bins=50, log=True, histtype='step', label='desc')\n",
    "plt.xlim(-3, 3.5)\n",
    "plt.ylim(bottom=1)\n",
    "plt.xlabel('log10(days)')\n",
    "plt.ylabel('Number of pairs')\n",
    "plt.legend(loc='upper left')\n",
    "#plt.savefig('XMMLSS_r_manydbs.png')"
   ]
  },
  {
   "cell_type": "markdown",
   "metadata": {},
   "source": [
    "OK, that was the result where we took all the observations in the DDF, regardless of whether they were \"DDF\" or \"WFD\" observations.  Now let's split them up.\n",
    "\n",
    "The point is this: I'd like to define a metric in the WFD area.  However, no matter what we do there are going to be gaps and some timescales with inherently fewer (but non-zero) observations.  So, I'm thinking that it would be a good idea to scale the result from the WFD by the DDFs (as they represent the \"best\" that we could hope to achieve).  That would remove the upward-right sloping aspect of the log delta t plot above and maybe make it easier to compare different WFD results.  \n",
    "\n",
    "I was thinking of averaging over all of the DDFs for the baseline opSim as the vector to normalize by.  A further question is how to normalize the WFD and the DDF results since clearly there are many more observation pairs in the DDFs."
   ]
  },
  {
   "cell_type": "markdown",
   "metadata": {},
   "source": [
    "Modify the above contraint to keep only the **WFD** observations (\"not like DDF\")."
   ]
  },
  {
   "cell_type": "code",
   "execution_count": 25,
   "metadata": {},
   "outputs": [],
   "source": [
    "# metric = the \"maximum\" of the \"airmass\" for each group of visits in the slicer\n",
    "#metric1b = LogTgapsMetric(allGaps=True)\n",
    "\n",
    "# slicer = a grouping or subdivision of visits for the simulated survey\n",
    "# based on their position on the sky (using a Healpix grid)\n",
    "#slicer1b = slicers.UserPointsSlicer(ra=[150.11], dec=[2.14])\n",
    "\n",
    "# constraint = the sql query (or 'select') that selects all visits in r band\n",
    "constraint1b = 'filter = \"r\"'\n",
    "constraint1b += ' and note not like \"DD%\"'"
   ]
  },
  {
   "cell_type": "markdown",
   "metadata": {},
   "source": [
    "The next 3 cells define the metric bundle (and dict), run the metric on just the first opSim and extracts the data for plotting."
   ]
  },
  {
   "cell_type": "code",
   "execution_count": 26,
   "metadata": {},
   "outputs": [],
   "source": [
    "# MetricBundle = combination of the metric, slicer, and sqlconstraint\n",
    "ddf_nvisit1b = metricBundles.MetricBundle(metric1, slicer1, constraint1b)\n",
    "bundleDict1b = {'logtgaps': ddf_nvisit1b}"
   ]
  },
  {
   "cell_type": "code",
   "execution_count": 27,
   "metadata": {},
   "outputs": [
    {
     "name": "stdout",
     "output_type": "stream",
     "text": [
      "Querying database SummaryAllProps with constraint filter = \"r\" and note not like \"DD%\" for columns ['observationStartMJD', 'fieldDec', 'fieldRA']\n",
      "Found 467643 visits\n",
      "Running:  ['logtgaps']\n",
      "Completed metric generation.\n",
      "Running reduce methods.\n",
      "Running summary statistics.\n",
      "Completed.\n"
     ]
    }
   ],
   "source": [
    "group1b = metricBundles.MetricBundleGroup(bundleDict1b, opsdb1, outDir=outDir, resultsDb=resultsDb)\n",
    "group1b.runAll()"
   ]
  },
  {
   "cell_type": "code",
   "execution_count": 28,
   "metadata": {},
   "outputs": [],
   "source": [
    "mask1b = ddf_nvisit1b.metricValues.mask\n",
    "data1b = ddf_nvisit1b.metricValues.data[~mask1b]"
   ]
  },
  {
   "cell_type": "markdown",
   "metadata": {},
   "source": [
    "Do the same as above, now modifying the above contraint to keep only the **DDF** observations (\"not DDF\")."
   ]
  },
  {
   "cell_type": "code",
   "execution_count": 29,
   "metadata": {},
   "outputs": [],
   "source": [
    "# metric = the \"maximum\" of the \"airmass\" for each group of visits in the slicer\n",
    "#metric1b = LogTgapsMetric(allGaps=True)\n",
    "\n",
    "# slicer = a grouping or subdivision of visits for the simulated survey\n",
    "# based on their position on the sky (using a Healpix grid)\n",
    "#slicer1b = slicers.UserPointsSlicer(ra=[150.11], dec=[2.14])\n",
    "\n",
    "# constraint = the sql query (or 'select') that selects all visits in r band\n",
    "constraint1c = 'filter = \"r\"'\n",
    "constraint1c += ' and note like \"DD%\"'"
   ]
  },
  {
   "cell_type": "code",
   "execution_count": 30,
   "metadata": {},
   "outputs": [],
   "source": [
    "# MetricBundle = combination of the metric, slicer, and sqlconstraint\n",
    "ddf_nvisit1c = metricBundles.MetricBundle(metric1, slicer1, constraint1c)\n",
    "bundleDict1c = {'logtgaps': ddf_nvisit1c}"
   ]
  },
  {
   "cell_type": "code",
   "execution_count": 31,
   "metadata": {},
   "outputs": [
    {
     "name": "stdout",
     "output_type": "stream",
     "text": [
      "Querying database SummaryAllProps with constraint filter = \"r\" and note like \"DD%\" for columns ['observationStartMJD', 'fieldDec', 'fieldRA']\n",
      "Found 24033 visits\n",
      "Running:  ['logtgaps']\n",
      "Completed metric generation.\n",
      "Running reduce methods.\n",
      "Running summary statistics.\n",
      "Completed.\n"
     ]
    }
   ],
   "source": [
    "group1c = metricBundles.MetricBundleGroup(bundleDict1c, opsdb1, outDir=outDir, resultsDb=resultsDb)\n",
    "group1c.runAll()"
   ]
  },
  {
   "cell_type": "code",
   "execution_count": 32,
   "metadata": {},
   "outputs": [],
   "source": [
    "mask1c = ddf_nvisit1c.metricValues.mask\n",
    "data1c = ddf_nvisit1c.metricValues.data[~mask1c]"
   ]
  },
  {
   "cell_type": "markdown",
   "metadata": {},
   "source": [
    "Now compare the result for all the observations, the DDF observations only, and the WFD observations."
   ]
  },
  {
   "cell_type": "code",
   "execution_count": 33,
   "metadata": {},
   "outputs": [
    {
     "data": {
      "text/plain": [
       "<matplotlib.legend.Legend at 0x7fc364f508d0>"
      ]
     },
     "execution_count": 33,
     "metadata": {},
     "output_type": "execute_result"
    },
    {
     "data": {
      "image/png": "[encoded data removed]",
      "text/plain": [
       "<Figure size 720x576 with 1 Axes>"
      ]
     },
     "metadata": {
      "needs_background": "light"
     },
     "output_type": "display_data"
    }
   ],
   "source": [
    "fig = plt.figure(figsize=(10,8))\n",
    "plt.hist(np.log10(data1[0]), bins=50, log=True, histtype='step', label='All XMM-LSS')\n",
    "plt.hist(np.log10(data1b[0]), bins=50, log=True, histtype='step', label='WFD')\n",
    "plt.hist(np.log10(data1c[0]), bins=50, log=True, histtype='step', label='DDF')\n",
    "\n",
    "plt.xlim(-3, 3.5)\n",
    "plt.ylim(bottom=1)\n",
    "plt.xlabel('log10(days)')\n",
    "plt.ylabel('Number of pairs')\n",
    "plt.legend(loc='upper left')\n",
    "#plt.savefig('XMMLSS_r_WFD_DDF_baseline.png')"
   ]
  },
  {
   "cell_type": "markdown",
   "metadata": {},
   "source": [
    "---"
   ]
  },
  {
   "cell_type": "markdown",
   "metadata": {},
   "source": [
    "What I was going to do next was to take the DDF result, use it to normalize the WFD results.  Then compute a metric that captures how well samples the log delta t distribution is for each opSim, relative to the \"best case\" scenario as given by the DDFs.  This could use all timescales (probably dropping the lowest timescales), or just sample ~3 representative bins.  Ideally do it for all the bands.  Not quite clear how to combine their information together."
   ]
  },
  {
   "cell_type": "markdown",
   "metadata": {},
   "source": [
    "---"
   ]
  },
  {
   "cell_type": "markdown",
   "metadata": {},
   "source": [
    "Below here is left over code from the notebook that I copied this from.  Keeping it just in case."
   ]
  },
  {
   "cell_type": "markdown",
   "metadata": {},
   "source": [
    "---"
   ]
  },
  {
   "cell_type": "code",
   "execution_count": null,
   "metadata": {},
   "outputs": [],
   "source": []
  },
  {
   "cell_type": "markdown",
   "metadata": {},
   "source": [
    "### 3. Run Metric across the WFD using healpix slicer and average it"
   ]
  },
  {
   "cell_type": "markdown",
   "metadata": {},
   "source": [
    "# metric = the \"maximum\" of the \"airmass\" for each group of visits in the slicer\n",
    "metric0 = LogTgapsMetric(allGaps=True)\n",
    "\n",
    "# slicer = a grouping or subdivision of visits for the simulated survey\n",
    "# based on their position on the sky (using a Healpix grid)\n",
    "slicer0 = slicers.HealpixSlicer(nside=64)\n",
    "\n",
    "# constraint = the sql query (or 'select') that selects all visits in r band\n",
    "constraint0 = 'filter = \"i\"'\n",
    "constraint0 += ' and note not like \"DD%\"'\n",
    "constraint0 += ' and proposalId = 1'"
   ]
  },
  {
   "cell_type": "markdown",
   "metadata": {},
   "source": [
    "# MetricBundle = combination of the metric, slicer, and sqlconstraint\n",
    "wfd_nvisit0 = metricBundles.MetricBundle(metric0, slicer0, constraint0)\n",
    "bundleDict0 = {'logtgaps': wfd_nvisit0}"
   ]
  },
  {
   "cell_type": "markdown",
   "metadata": {},
   "source": [
    "group0 = metricBundles.MetricBundleGroup(bundleDict0, opsdb1, outDir=outDir, resultsDb=resultsDb)\n",
    "group0.runAll()"
   ]
  },
  {
   "cell_type": "markdown",
   "metadata": {},
   "source": [
    "#### 2.1 Make plot directly"
   ]
  },
  {
   "cell_type": "markdown",
   "metadata": {},
   "source": [
    "mask0 = wfd_nvisit0.metricValues.mask\n",
    "data0 = wfd_nvisit0.metricValues.data[~mask0]"
   ]
  },
  {
   "cell_type": "markdown",
   "metadata": {},
   "source": [
    "data0_flat = np.concatenate(data0)\n",
    "data0_flat.shape"
   ]
  },
  {
   "cell_type": "markdown",
   "metadata": {},
   "source": [
    "# compute averaged logTgaps in WFD\n",
    "n, edges = np.histogram(np.log10(data0_flat), bins=50)\n",
    "n = n/data0.shape[0] #divide by number of pixels\n",
    "\n",
    "left,right = edges[:-1],edges[1:]\n",
    "X = np.array([left,right]).T.flatten()\n",
    "Y = np.array([n,n]).T.flatten()"
   ]
  },
  {
   "cell_type": "markdown",
   "metadata": {},
   "source": [
    "fig = plt.figure(figsize=(10,8))\n",
    "plt.hist(np.log10(data1[0]), bins=50, log=True, histtype='step', label='COSMOS')\n",
    "plt.plot(X, Y, label='Averaged WFD')\n",
    "# plt.yscale('log')\n",
    "plt.xlim(-3, 3.5)\n",
    "plt.ylim(bottom=1) # set lower number on count to 1\n",
    "plt.xlabel('log10(days)')\n",
    "plt.ylabel('Number of pairs')\n",
    "plt.title('LogTgaps in COSMOS vs. in WFD')\n",
    "plt.legend(loc=2)"
   ]
  },
  {
   "cell_type": "code",
   "execution_count": null,
   "metadata": {},
   "outputs": [],
   "source": []
  }
 ],
 "metadata": {
  "kernelspec": {
   "display_name": "Python 3",
   "language": "python",
   "name": "python3"
  },
  "language_info": {
   "codemirror_mode": {
    "name": "ipython",
    "version": 3
   },
   "file_extension": ".py",
   "mimetype": "text/x-python",
   "name": "python",
   "nbconvert_exporter": "python",
   "pygments_lexer": "ipython3",
   "version": "3.7.2"
  }
 },
 "nbformat": 4,
 "nbformat_minor": 4
}
