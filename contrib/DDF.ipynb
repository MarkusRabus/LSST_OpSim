{
 "cells": [
  {
   "cell_type": "markdown",
   "metadata": {},
   "source": [
    "### Test DDF against LSST AGN SC DDF Cadence White Paper"
   ]
  },
  {
   "cell_type": "code",
   "execution_count": 1,
   "metadata": {},
   "outputs": [],
   "source": [
    "#Please enter your SciServer username between the single quotes below!\n",
    "your_username = 'ywx649999311'"
   ]
  },
  {
   "cell_type": "code",
   "execution_count": 2,
   "metadata": {},
   "outputs": [],
   "source": [
    "# import matplotlib to show plots inline.\n",
    "%matplotlib inline\n",
    "import matplotlib.pyplot as plt\n",
    "import pandas as pd\n",
    "import numpy as np\n",
    "import glob\n",
    "import os"
   ]
  },
  {
   "cell_type": "markdown",
   "metadata": {},
   "source": [
    "Import the sims_maf modules needed."
   ]
  },
  {
   "cell_type": "code",
   "execution_count": 3,
   "metadata": {},
   "outputs": [],
   "source": [
    "# import lsst.sim.maf moduels modules\n",
    "import lsst.sims.maf.db as db\n",
    "import lsst.sims.maf.metrics as metrics\n",
    "import lsst.sims.maf.slicers as slicers\n",
    "import lsst.sims.maf.stackers as stackers\n",
    "import lsst.sims.maf.plots as plots\n",
    "import lsst.sims.maf.metricBundles as metricBundles"
   ]
  },
  {
   "cell_type": "markdown",
   "metadata": {},
   "source": [
    "### **Important:**  \n",
    "The following code is needed before importing the `opsimUtils` module if the module is not in the same directory as the current notebook. That is, you need add the directory where the `opsimUtils` module is located to the Python search path. "
   ]
  },
  {
   "cell_type": "code",
   "execution_count": 4,
   "metadata": {},
   "outputs": [],
   "source": [
    "# add opsimUtils module path to search\n",
    "import sys\n",
    "sys.path.insert(0, '../Scripts_NBs/')"
   ]
  },
  {
   "cell_type": "code",
   "execution_count": 5,
   "metadata": {},
   "outputs": [],
   "source": [
    "# import convenience functions\n",
    "from opsimUtils import *"
   ]
  },
  {
   "cell_type": "markdown",
   "metadata": {},
   "source": [
    "#### 1. Build connections to the OpSims databases\n",
    "The first step is to initiate opsim database objects and result database objects for the opsim databases that you want to run metrics on. Two paths are needed here:\n",
    "1. `dbDir`: The path to the OpSim database directory\n",
    "2. `outDir`: The path to the directory where you want to save the metric metadata.\n",
    "\n",
    "By providing these two paths, the function `connect_dbs()` will initiate connections and store the metadata to the designated directory."
   ]
  },
  {
   "cell_type": "code",
   "execution_count": 6,
   "metadata": {},
   "outputs": [],
   "source": [
    "if your_username == '': # do NOT put your username here, put it in the cell at the top of the notebook.\n",
    "    raise Exception('Please provide your username!  See the top of the notebook.')\n",
    "\n",
    "dbDir = '/home/idies/workspace/lsst_cadence/FBS_1.4/'\n",
    "outDir = '/home/idies/workspace/Storage/{}/persistent/MAFOutput/DDF/'.format(your_username)\n",
    "\n",
    "if not os.path.exists(os.path.abspath(outDir)):\n",
    "    os.mkdir(os.path.abspath(outDir))"
   ]
  },
  {
   "cell_type": "code",
   "execution_count": 7,
   "metadata": {},
   "outputs": [],
   "source": [
    "# two dictionary are returned by the following function, \n",
    "# One (opSimDbs) is a dictionary storing all database objects\n",
    "# Another (resultDbs) is a dictionary consist of the objects directing MAF where to save metric metadata\n",
    "# Both dictionaries are indexed by OpSim run names\n",
    "opSimDbs, resultDbs = connect_dbs(dbDir, outDir)"
   ]
  },
  {
   "cell_type": "code",
   "execution_count": 8,
   "metadata": {},
   "outputs": [
    {
     "data": {
      "text/plain": [
       "['wfd_depth_scale0.85_noddf_v1.4_10yrs',\n",
       " 'twilight_neo_mod2_v1.4_10yrs',\n",
       " 'weather_0.3_v1.4_10yrs',\n",
       " 'pair_strategy_4_v1.4_10yrs',\n",
       " 'short_exp_2ns_1expt_v1.4_10yrs']"
      ]
     },
     "execution_count": 8,
     "metadata": {},
     "output_type": "execute_result"
    }
   ],
   "source": [
    "dbRuns = show_opsims(dbDir)\n",
    "dbRuns[0:5] # only show first 5 opsims"
   ]
  },
  {
   "cell_type": "markdown",
   "metadata": {},
   "source": [
    "#### 2. Declare Coadd metrics to run on above OpSims"
   ]
  },
  {
   "cell_type": "code",
   "execution_count": 10,
   "metadata": {},
   "outputs": [],
   "source": [
    "bands = ['u', 'g', 'r', 'i', 'z', 'y']\n",
    "propIds = [2, 3, 5, 6]\n",
    "coaddBDict = {}"
   ]
  },
  {
   "cell_type": "code",
   "execution_count": 11,
   "metadata": {},
   "outputs": [
    {
     "name": "stdout",
     "output_type": "stream",
     "text": [
      "Healpix slicer using NSIDE=64, approximate resolution 54.967783 arcminutes\n"
     ]
    }
   ],
   "source": [
    "metricNameTmp = 'coadd_{}_{}'\n",
    "coaddSlicer = slicers.HealpixSlicer(nside=64)"
   ]
  },
  {
   "cell_type": "code",
   "execution_count": 12,
   "metadata": {},
   "outputs": [],
   "source": [
    "for propId in propIds:\n",
    "    for band in bands:\n",
    "        metricName = metricNameTmp.format(propId, band)\n",
    "        coaddMetric = metrics.Coaddm5Metric(metricName=metricName)\n",
    "        coaddConstraint = 'filter = \"{}\"'.format(band)\n",
    "        coaddConstraint += ' and proposalId = {}'.format(propId)\n",
    "        coaddBDict[metricName] = metricBundles.MetricBundle(coaddMetric, \\\n",
    "                                coaddSlicer, coaddConstraint)"
   ]
  },
  {
   "cell_type": "code",
   "execution_count": 13,
   "metadata": {},
   "outputs": [],
   "source": [
    "# set summary statistics\n",
    "summaryMetrics = [metrics.MinMetric(), metrics.MedianMetric(),\n",
    "                  metrics.MaxMetric(), metrics.RmsMetric()]\n",
    "for metric in coaddBDict:\n",
    "    coaddBDict[metric].setSummaryMetrics(summaryMetrics)"
   ]
  },
  {
   "cell_type": "markdown",
   "metadata": {},
   "source": [
    "#### 3. Declare NVisits metrics to run on above OpSims"
   ]
  },
  {
   "cell_type": "code",
   "execution_count": 24,
   "metadata": {},
   "outputs": [],
   "source": [
    "bands = ['u', 'g', 'r', 'i', 'z', 'y']\n",
    "propIds = [2, 3, 5, 6]\n",
    "nvisitBDict = {}"
   ]
  },
  {
   "cell_type": "code",
   "execution_count": 31,
   "metadata": {},
   "outputs": [
    {
     "name": "stdout",
     "output_type": "stream",
     "text": [
      "Healpix slicer using NSIDE=32, approximate resolution 109.935565 arcminutes\n"
     ]
    }
   ],
   "source": [
    "metricNameTmp = 'nvisit_{}_{}'\n",
    "nvisitSlicer = slicers.HealpixSlicer(nside=32)"
   ]
  },
  {
   "cell_type": "code",
   "execution_count": 26,
   "metadata": {},
   "outputs": [],
   "source": [
    "for propId in propIds:\n",
    "    for band in bands:\n",
    "        metricName = metricNameTmp.format(propId, band)\n",
    "        nvisitMetric = metrics.CountMetric('observationStartMJD', metricName=metricName)\n",
    "        nvisitConstraint = 'filter = \"{}\"'.format(band)\n",
    "        nvisitConstraint += ' and proposalId = {}'.format(propId)\n",
    "        nvisitBDict[metricName] = metricBundles.MetricBundle(nvisitMetric, \\\n",
    "                                nvisitSlicer, nvisitConstraint)"
   ]
  },
  {
   "cell_type": "code",
   "execution_count": 29,
   "metadata": {},
   "outputs": [],
   "source": [
    "# set summary statistics\n",
    "summaryMetrics = [metrics.MinMetric(), metrics.MedianMetric(),\n",
    "                  metrics.MaxMetric(), metrics.RmsMetric()]\n",
    "for metric in nvisitBDict:\n",
    "    nvisitBDict[metric].setSummaryMetrics(summaryMetrics)"
   ]
  },
  {
   "cell_type": "markdown",
   "metadata": {},
   "source": [
    "#### 3. Loop over all OpSims in dbDir and run MAF\n",
    "While constructing a metricBundleGroup from a dictionary (the cell below), you will need to provide the path to a directory (`metricDataPath` in the cell below) where you would like to store the metric data (this is **DIFFERENT** than path to the metric data, `outDir`). To construct metricbundles for plotting and further analysis, this path will be needed."
   ]
  },
  {
   "cell_type": "code",
   "execution_count": 16,
   "metadata": {
    "scrolled": true
   },
   "outputs": [
    {
     "name": "stdout",
     "output_type": "stream",
     "text": [
      "Querying database SummaryAllProps with constraint filter = \"i\" and proposalId = 6 for columns ['fieldDec', 'fieldRA', 'fiveSigmaDepth']\n"
     ]
    },
    {
     "name": "stderr",
     "output_type": "stream",
     "text": [
      "/home/idies/lsst/stack/miniconda3-4.7.10-4d7b902/Linux64/sims_maf/2.13.0.sims-24-gbe21ed04+1/python/lsst/sims/maf/metricBundles/metricBundleGroup.py:298: UserWarning: No data matching constraint filter = \"i\" and proposalId = 6\n",
      "  warnings.warn('No data matching constraint %s' % constraint)\n",
      "/home/idies/lsst/stack/miniconda3-4.7.10-4d7b902/Linux64/sims_maf/2.13.0.sims-24-gbe21ed04+1/python/lsst/sims/maf/metricBundles/metricBundleGroup.py:302: UserWarning:  This means skipping metrics ['coadd_6_i :  i and proposalId 6 : HealpixSlicer']\n",
      "  warnings.warn(' This means skipping metrics %s' % metricsSkipped)\n"
     ]
    },
    {
     "name": "stdout",
     "output_type": "stream",
     "text": [
      "Querying database SummaryAllProps with constraint filter = \"y\" and proposalId = 5 for columns ['fieldDec', 'fieldRA', 'fiveSigmaDepth']\n"
     ]
    },
    {
     "name": "stderr",
     "output_type": "stream",
     "text": [
      "/home/idies/lsst/stack/miniconda3-4.7.10-4d7b902/Linux64/sims_maf/2.13.0.sims-24-gbe21ed04+1/python/lsst/sims/maf/metricBundles/metricBundleGroup.py:298: UserWarning: No data matching constraint filter = \"y\" and proposalId = 5\n",
      "  warnings.warn('No data matching constraint %s' % constraint)\n",
      "/home/idies/lsst/stack/miniconda3-4.7.10-4d7b902/Linux64/sims_maf/2.13.0.sims-24-gbe21ed04+1/python/lsst/sims/maf/metricBundles/metricBundleGroup.py:302: UserWarning:  This means skipping metrics ['coadd_5_y :  y and proposalId 5 : HealpixSlicer']\n",
      "  warnings.warn(' This means skipping metrics %s' % metricsSkipped)\n"
     ]
    },
    {
     "name": "stdout",
     "output_type": "stream",
     "text": [
      "Querying database SummaryAllProps with constraint filter = \"i\" and proposalId = 3 for columns ['fieldDec', 'fieldRA', 'fiveSigmaDepth']\n"
     ]
    },
    {
     "name": "stderr",
     "output_type": "stream",
     "text": [
      "/home/idies/lsst/stack/miniconda3-4.7.10-4d7b902/Linux64/sims_maf/2.13.0.sims-24-gbe21ed04+1/python/lsst/sims/maf/metricBundles/metricBundleGroup.py:298: UserWarning: No data matching constraint filter = \"i\" and proposalId = 3\n",
      "  warnings.warn('No data matching constraint %s' % constraint)\n",
      "/home/idies/lsst/stack/miniconda3-4.7.10-4d7b902/Linux64/sims_maf/2.13.0.sims-24-gbe21ed04+1/python/lsst/sims/maf/metricBundles/metricBundleGroup.py:302: UserWarning:  This means skipping metrics ['coadd_3_i :  i and proposalId 3 : HealpixSlicer']\n",
      "  warnings.warn(' This means skipping metrics %s' % metricsSkipped)\n"
     ]
    },
    {
     "name": "stdout",
     "output_type": "stream",
     "text": [
      "Querying database SummaryAllProps with constraint filter = \"y\" and proposalId = 2 for columns ['fieldDec', 'fieldRA', 'fiveSigmaDepth']\n"
     ]
    },
    {
     "name": "stderr",
     "output_type": "stream",
     "text": [
      "/home/idies/lsst/stack/miniconda3-4.7.10-4d7b902/Linux64/sims_maf/2.13.0.sims-24-gbe21ed04+1/python/lsst/sims/maf/metricBundles/metricBundleGroup.py:298: UserWarning: No data matching constraint filter = \"y\" and proposalId = 2\n",
      "  warnings.warn('No data matching constraint %s' % constraint)\n",
      "/home/idies/lsst/stack/miniconda3-4.7.10-4d7b902/Linux64/sims_maf/2.13.0.sims-24-gbe21ed04+1/python/lsst/sims/maf/metricBundles/metricBundleGroup.py:302: UserWarning:  This means skipping metrics ['coadd_2_y :  y and proposalId 2 : HealpixSlicer']\n",
      "  warnings.warn(' This means skipping metrics %s' % metricsSkipped)\n"
     ]
    },
    {
     "name": "stdout",
     "output_type": "stream",
     "text": [
      "Querying database SummaryAllProps with constraint filter = \"u\" and proposalId = 5 for columns ['fieldDec', 'fieldRA', 'fiveSigmaDepth']\n"
     ]
    },
    {
     "name": "stderr",
     "output_type": "stream",
     "text": [
      "/home/idies/lsst/stack/miniconda3-4.7.10-4d7b902/Linux64/sims_maf/2.13.0.sims-24-gbe21ed04+1/python/lsst/sims/maf/metricBundles/metricBundleGroup.py:298: UserWarning: No data matching constraint filter = \"u\" and proposalId = 5\n",
      "  warnings.warn('No data matching constraint %s' % constraint)\n",
      "/home/idies/lsst/stack/miniconda3-4.7.10-4d7b902/Linux64/sims_maf/2.13.0.sims-24-gbe21ed04+1/python/lsst/sims/maf/metricBundles/metricBundleGroup.py:302: UserWarning:  This means skipping metrics ['coadd_5_u :  u and proposalId 5 : HealpixSlicer']\n",
      "  warnings.warn(' This means skipping metrics %s' % metricsSkipped)\n"
     ]
    },
    {
     "name": "stdout",
     "output_type": "stream",
     "text": [
      "Querying database SummaryAllProps with constraint filter = \"u\" and proposalId = 3 for columns ['fieldDec', 'fieldRA', 'fiveSigmaDepth']\n"
     ]
    },
    {
     "name": "stderr",
     "output_type": "stream",
     "text": [
      "/home/idies/lsst/stack/miniconda3-4.7.10-4d7b902/Linux64/sims_maf/2.13.0.sims-24-gbe21ed04+1/python/lsst/sims/maf/metricBundles/metricBundleGroup.py:298: UserWarning: No data matching constraint filter = \"u\" and proposalId = 3\n",
      "  warnings.warn('No data matching constraint %s' % constraint)\n",
      "/home/idies/lsst/stack/miniconda3-4.7.10-4d7b902/Linux64/sims_maf/2.13.0.sims-24-gbe21ed04+1/python/lsst/sims/maf/metricBundles/metricBundleGroup.py:302: UserWarning:  This means skipping metrics ['coadd_3_u :  u and proposalId 3 : HealpixSlicer']\n",
      "  warnings.warn(' This means skipping metrics %s' % metricsSkipped)\n"
     ]
    },
    {
     "name": "stdout",
     "output_type": "stream",
     "text": [
      "Querying database SummaryAllProps with constraint filter = \"y\" and proposalId = 6 for columns ['fieldDec', 'fieldRA', 'fiveSigmaDepth']\n"
     ]
    },
    {
     "name": "stderr",
     "output_type": "stream",
     "text": [
      "/home/idies/lsst/stack/miniconda3-4.7.10-4d7b902/Linux64/sims_maf/2.13.0.sims-24-gbe21ed04+1/python/lsst/sims/maf/metricBundles/metricBundleGroup.py:298: UserWarning: No data matching constraint filter = \"y\" and proposalId = 6\n",
      "  warnings.warn('No data matching constraint %s' % constraint)\n",
      "/home/idies/lsst/stack/miniconda3-4.7.10-4d7b902/Linux64/sims_maf/2.13.0.sims-24-gbe21ed04+1/python/lsst/sims/maf/metricBundles/metricBundleGroup.py:302: UserWarning:  This means skipping metrics ['coadd_6_y :  y and proposalId 6 : HealpixSlicer']\n",
      "  warnings.warn(' This means skipping metrics %s' % metricsSkipped)\n"
     ]
    },
    {
     "name": "stdout",
     "output_type": "stream",
     "text": [
      "Querying database SummaryAllProps with constraint filter = \"u\" and proposalId = 6 for columns ['fieldDec', 'fieldRA', 'fiveSigmaDepth']\n"
     ]
    },
    {
     "name": "stderr",
     "output_type": "stream",
     "text": [
      "/home/idies/lsst/stack/miniconda3-4.7.10-4d7b902/Linux64/sims_maf/2.13.0.sims-24-gbe21ed04+1/python/lsst/sims/maf/metricBundles/metricBundleGroup.py:298: UserWarning: No data matching constraint filter = \"u\" and proposalId = 6\n",
      "  warnings.warn('No data matching constraint %s' % constraint)\n",
      "/home/idies/lsst/stack/miniconda3-4.7.10-4d7b902/Linux64/sims_maf/2.13.0.sims-24-gbe21ed04+1/python/lsst/sims/maf/metricBundles/metricBundleGroup.py:302: UserWarning:  This means skipping metrics ['coadd_6_u :  u and proposalId 6 : HealpixSlicer']\n",
      "  warnings.warn(' This means skipping metrics %s' % metricsSkipped)\n"
     ]
    },
    {
     "name": "stdout",
     "output_type": "stream",
     "text": [
      "Querying database SummaryAllProps with constraint filter = \"z\" and proposalId = 6 for columns ['fieldDec', 'fieldRA', 'fiveSigmaDepth']\n"
     ]
    },
    {
     "name": "stderr",
     "output_type": "stream",
     "text": [
      "/home/idies/lsst/stack/miniconda3-4.7.10-4d7b902/Linux64/sims_maf/2.13.0.sims-24-gbe21ed04+1/python/lsst/sims/maf/metricBundles/metricBundleGroup.py:298: UserWarning: No data matching constraint filter = \"z\" and proposalId = 6\n",
      "  warnings.warn('No data matching constraint %s' % constraint)\n",
      "/home/idies/lsst/stack/miniconda3-4.7.10-4d7b902/Linux64/sims_maf/2.13.0.sims-24-gbe21ed04+1/python/lsst/sims/maf/metricBundles/metricBundleGroup.py:302: UserWarning:  This means skipping metrics ['coadd_6_z :  z and proposalId 6 : HealpixSlicer']\n",
      "  warnings.warn(' This means skipping metrics %s' % metricsSkipped)\n"
     ]
    },
    {
     "name": "stdout",
     "output_type": "stream",
     "text": [
      "Querying database SummaryAllProps with constraint filter = \"i\" and proposalId = 5 for columns ['fieldDec', 'fieldRA', 'fiveSigmaDepth']\n"
     ]
    },
    {
     "name": "stderr",
     "output_type": "stream",
     "text": [
      "/home/idies/lsst/stack/miniconda3-4.7.10-4d7b902/Linux64/sims_maf/2.13.0.sims-24-gbe21ed04+1/python/lsst/sims/maf/metricBundles/metricBundleGroup.py:298: UserWarning: No data matching constraint filter = \"i\" and proposalId = 5\n",
      "  warnings.warn('No data matching constraint %s' % constraint)\n",
      "/home/idies/lsst/stack/miniconda3-4.7.10-4d7b902/Linux64/sims_maf/2.13.0.sims-24-gbe21ed04+1/python/lsst/sims/maf/metricBundles/metricBundleGroup.py:302: UserWarning:  This means skipping metrics ['coadd_5_i :  i and proposalId 5 : HealpixSlicer']\n",
      "  warnings.warn(' This means skipping metrics %s' % metricsSkipped)\n"
     ]
    },
    {
     "name": "stdout",
     "output_type": "stream",
     "text": [
      "Querying database SummaryAllProps with constraint filter = \"g\" and proposalId = 5 for columns ['fieldDec', 'fieldRA', 'fiveSigmaDepth']\n"
     ]
    },
    {
     "name": "stderr",
     "output_type": "stream",
     "text": [
      "/home/idies/lsst/stack/miniconda3-4.7.10-4d7b902/Linux64/sims_maf/2.13.0.sims-24-gbe21ed04+1/python/lsst/sims/maf/metricBundles/metricBundleGroup.py:298: UserWarning: No data matching constraint filter = \"g\" and proposalId = 5\n",
      "  warnings.warn('No data matching constraint %s' % constraint)\n",
      "/home/idies/lsst/stack/miniconda3-4.7.10-4d7b902/Linux64/sims_maf/2.13.0.sims-24-gbe21ed04+1/python/lsst/sims/maf/metricBundles/metricBundleGroup.py:302: UserWarning:  This means skipping metrics ['coadd_5_g :  g and proposalId 5 : HealpixSlicer']\n",
      "  warnings.warn(' This means skipping metrics %s' % metricsSkipped)\n"
     ]
    },
    {
     "name": "stdout",
     "output_type": "stream",
     "text": [
      "Querying database SummaryAllProps with constraint filter = \"z\" and proposalId = 5 for columns ['fieldDec', 'fieldRA', 'fiveSigmaDepth']\n"
     ]
    },
    {
     "name": "stderr",
     "output_type": "stream",
     "text": [
      "/home/idies/lsst/stack/miniconda3-4.7.10-4d7b902/Linux64/sims_maf/2.13.0.sims-24-gbe21ed04+1/python/lsst/sims/maf/metricBundles/metricBundleGroup.py:298: UserWarning: No data matching constraint filter = \"z\" and proposalId = 5\n",
      "  warnings.warn('No data matching constraint %s' % constraint)\n",
      "/home/idies/lsst/stack/miniconda3-4.7.10-4d7b902/Linux64/sims_maf/2.13.0.sims-24-gbe21ed04+1/python/lsst/sims/maf/metricBundles/metricBundleGroup.py:302: UserWarning:  This means skipping metrics ['coadd_5_z :  z and proposalId 5 : HealpixSlicer']\n",
      "  warnings.warn(' This means skipping metrics %s' % metricsSkipped)\n"
     ]
    },
    {
     "name": "stdout",
     "output_type": "stream",
     "text": [
      "Querying database SummaryAllProps with constraint filter = \"g\" and proposalId = 2 for columns ['fieldDec', 'fieldRA', 'fiveSigmaDepth']\n"
     ]
    },
    {
     "name": "stderr",
     "output_type": "stream",
     "text": [
      "/home/idies/lsst/stack/miniconda3-4.7.10-4d7b902/Linux64/sims_maf/2.13.0.sims-24-gbe21ed04+1/python/lsst/sims/maf/metricBundles/metricBundleGroup.py:298: UserWarning: No data matching constraint filter = \"g\" and proposalId = 2\n",
      "  warnings.warn('No data matching constraint %s' % constraint)\n",
      "/home/idies/lsst/stack/miniconda3-4.7.10-4d7b902/Linux64/sims_maf/2.13.0.sims-24-gbe21ed04+1/python/lsst/sims/maf/metricBundles/metricBundleGroup.py:302: UserWarning:  This means skipping metrics ['coadd_2_g :  g and proposalId 2 : HealpixSlicer']\n",
      "  warnings.warn(' This means skipping metrics %s' % metricsSkipped)\n"
     ]
    },
    {
     "name": "stdout",
     "output_type": "stream",
     "text": [
      "Querying database SummaryAllProps with constraint filter = \"u\" and proposalId = 2 for columns ['fieldDec', 'fieldRA', 'fiveSigmaDepth']\n"
     ]
    },
    {
     "name": "stderr",
     "output_type": "stream",
     "text": [
      "/home/idies/lsst/stack/miniconda3-4.7.10-4d7b902/Linux64/sims_maf/2.13.0.sims-24-gbe21ed04+1/python/lsst/sims/maf/metricBundles/metricBundleGroup.py:298: UserWarning: No data matching constraint filter = \"u\" and proposalId = 2\n",
      "  warnings.warn('No data matching constraint %s' % constraint)\n",
      "/home/idies/lsst/stack/miniconda3-4.7.10-4d7b902/Linux64/sims_maf/2.13.0.sims-24-gbe21ed04+1/python/lsst/sims/maf/metricBundles/metricBundleGroup.py:302: UserWarning:  This means skipping metrics ['coadd_2_u :  u and proposalId 2 : HealpixSlicer']\n",
      "  warnings.warn(' This means skipping metrics %s' % metricsSkipped)\n"
     ]
    },
    {
     "name": "stdout",
     "output_type": "stream",
     "text": [
      "Querying database SummaryAllProps with constraint filter = \"z\" and proposalId = 3 for columns ['fieldDec', 'fieldRA', 'fiveSigmaDepth']\n"
     ]
    },
    {
     "name": "stderr",
     "output_type": "stream",
     "text": [
      "/home/idies/lsst/stack/miniconda3-4.7.10-4d7b902/Linux64/sims_maf/2.13.0.sims-24-gbe21ed04+1/python/lsst/sims/maf/metricBundles/metricBundleGroup.py:298: UserWarning: No data matching constraint filter = \"z\" and proposalId = 3\n",
      "  warnings.warn('No data matching constraint %s' % constraint)\n",
      "/home/idies/lsst/stack/miniconda3-4.7.10-4d7b902/Linux64/sims_maf/2.13.0.sims-24-gbe21ed04+1/python/lsst/sims/maf/metricBundles/metricBundleGroup.py:302: UserWarning:  This means skipping metrics ['coadd_3_z :  z and proposalId 3 : HealpixSlicer']\n",
      "  warnings.warn(' This means skipping metrics %s' % metricsSkipped)\n"
     ]
    },
    {
     "name": "stdout",
     "output_type": "stream",
     "text": [
      "Querying database SummaryAllProps with constraint filter = \"y\" and proposalId = 3 for columns ['fieldDec', 'fieldRA', 'fiveSigmaDepth']\n"
     ]
    },
    {
     "name": "stderr",
     "output_type": "stream",
     "text": [
      "/home/idies/lsst/stack/miniconda3-4.7.10-4d7b902/Linux64/sims_maf/2.13.0.sims-24-gbe21ed04+1/python/lsst/sims/maf/metricBundles/metricBundleGroup.py:298: UserWarning: No data matching constraint filter = \"y\" and proposalId = 3\n",
      "  warnings.warn('No data matching constraint %s' % constraint)\n",
      "/home/idies/lsst/stack/miniconda3-4.7.10-4d7b902/Linux64/sims_maf/2.13.0.sims-24-gbe21ed04+1/python/lsst/sims/maf/metricBundles/metricBundleGroup.py:302: UserWarning:  This means skipping metrics ['coadd_3_y :  y and proposalId 3 : HealpixSlicer']\n",
      "  warnings.warn(' This means skipping metrics %s' % metricsSkipped)\n"
     ]
    },
    {
     "name": "stdout",
     "output_type": "stream",
     "text": [
      "Querying database SummaryAllProps with constraint filter = \"z\" and proposalId = 2 for columns ['fieldDec', 'fieldRA', 'fiveSigmaDepth']\n"
     ]
    },
    {
     "name": "stderr",
     "output_type": "stream",
     "text": [
      "/home/idies/lsst/stack/miniconda3-4.7.10-4d7b902/Linux64/sims_maf/2.13.0.sims-24-gbe21ed04+1/python/lsst/sims/maf/metricBundles/metricBundleGroup.py:298: UserWarning: No data matching constraint filter = \"z\" and proposalId = 2\n",
      "  warnings.warn('No data matching constraint %s' % constraint)\n",
      "/home/idies/lsst/stack/miniconda3-4.7.10-4d7b902/Linux64/sims_maf/2.13.0.sims-24-gbe21ed04+1/python/lsst/sims/maf/metricBundles/metricBundleGroup.py:302: UserWarning:  This means skipping metrics ['coadd_2_z :  z and proposalId 2 : HealpixSlicer']\n",
      "  warnings.warn(' This means skipping metrics %s' % metricsSkipped)\n"
     ]
    },
    {
     "name": "stdout",
     "output_type": "stream",
     "text": [
      "Querying database SummaryAllProps with constraint filter = \"r\" and proposalId = 6 for columns ['fieldDec', 'fieldRA', 'fiveSigmaDepth']\n"
     ]
    },
    {
     "name": "stderr",
     "output_type": "stream",
     "text": [
      "/home/idies/lsst/stack/miniconda3-4.7.10-4d7b902/Linux64/sims_maf/2.13.0.sims-24-gbe21ed04+1/python/lsst/sims/maf/metricBundles/metricBundleGroup.py:298: UserWarning: No data matching constraint filter = \"r\" and proposalId = 6\n",
      "  warnings.warn('No data matching constraint %s' % constraint)\n",
      "/home/idies/lsst/stack/miniconda3-4.7.10-4d7b902/Linux64/sims_maf/2.13.0.sims-24-gbe21ed04+1/python/lsst/sims/maf/metricBundles/metricBundleGroup.py:302: UserWarning:  This means skipping metrics ['coadd_6_r :  r and proposalId 6 : HealpixSlicer']\n",
      "  warnings.warn(' This means skipping metrics %s' % metricsSkipped)\n"
     ]
    },
    {
     "name": "stdout",
     "output_type": "stream",
     "text": [
      "Querying database SummaryAllProps with constraint filter = \"r\" and proposalId = 3 for columns ['fieldDec', 'fieldRA', 'fiveSigmaDepth']\n"
     ]
    },
    {
     "name": "stderr",
     "output_type": "stream",
     "text": [
      "/home/idies/lsst/stack/miniconda3-4.7.10-4d7b902/Linux64/sims_maf/2.13.0.sims-24-gbe21ed04+1/python/lsst/sims/maf/metricBundles/metricBundleGroup.py:298: UserWarning: No data matching constraint filter = \"r\" and proposalId = 3\n",
      "  warnings.warn('No data matching constraint %s' % constraint)\n",
      "/home/idies/lsst/stack/miniconda3-4.7.10-4d7b902/Linux64/sims_maf/2.13.0.sims-24-gbe21ed04+1/python/lsst/sims/maf/metricBundles/metricBundleGroup.py:302: UserWarning:  This means skipping metrics ['coadd_3_r :  r and proposalId 3 : HealpixSlicer']\n",
      "  warnings.warn(' This means skipping metrics %s' % metricsSkipped)\n"
     ]
    },
    {
     "name": "stdout",
     "output_type": "stream",
     "text": [
      "Querying database SummaryAllProps with constraint filter = \"g\" and proposalId = 3 for columns ['fieldDec', 'fieldRA', 'fiveSigmaDepth']\n"
     ]
    },
    {
     "name": "stderr",
     "output_type": "stream",
     "text": [
      "/home/idies/lsst/stack/miniconda3-4.7.10-4d7b902/Linux64/sims_maf/2.13.0.sims-24-gbe21ed04+1/python/lsst/sims/maf/metricBundles/metricBundleGroup.py:298: UserWarning: No data matching constraint filter = \"g\" and proposalId = 3\n",
      "  warnings.warn('No data matching constraint %s' % constraint)\n",
      "/home/idies/lsst/stack/miniconda3-4.7.10-4d7b902/Linux64/sims_maf/2.13.0.sims-24-gbe21ed04+1/python/lsst/sims/maf/metricBundles/metricBundleGroup.py:302: UserWarning:  This means skipping metrics ['coadd_3_g :  g and proposalId 3 : HealpixSlicer']\n",
      "  warnings.warn(' This means skipping metrics %s' % metricsSkipped)\n"
     ]
    },
    {
     "name": "stdout",
     "output_type": "stream",
     "text": [
      "Querying database SummaryAllProps with constraint filter = \"r\" and proposalId = 2 for columns ['fieldDec', 'fieldRA', 'fiveSigmaDepth']\n"
     ]
    },
    {
     "name": "stderr",
     "output_type": "stream",
     "text": [
      "/home/idies/lsst/stack/miniconda3-4.7.10-4d7b902/Linux64/sims_maf/2.13.0.sims-24-gbe21ed04+1/python/lsst/sims/maf/metricBundles/metricBundleGroup.py:298: UserWarning: No data matching constraint filter = \"r\" and proposalId = 2\n",
      "  warnings.warn('No data matching constraint %s' % constraint)\n",
      "/home/idies/lsst/stack/miniconda3-4.7.10-4d7b902/Linux64/sims_maf/2.13.0.sims-24-gbe21ed04+1/python/lsst/sims/maf/metricBundles/metricBundleGroup.py:302: UserWarning:  This means skipping metrics ['coadd_2_r :  r and proposalId 2 : HealpixSlicer']\n",
      "  warnings.warn(' This means skipping metrics %s' % metricsSkipped)\n"
     ]
    },
    {
     "name": "stdout",
     "output_type": "stream",
     "text": [
      "Querying database SummaryAllProps with constraint filter = \"r\" and proposalId = 5 for columns ['fieldDec', 'fieldRA', 'fiveSigmaDepth']\n"
     ]
    },
    {
     "name": "stderr",
     "output_type": "stream",
     "text": [
      "/home/idies/lsst/stack/miniconda3-4.7.10-4d7b902/Linux64/sims_maf/2.13.0.sims-24-gbe21ed04+1/python/lsst/sims/maf/metricBundles/metricBundleGroup.py:298: UserWarning: No data matching constraint filter = \"r\" and proposalId = 5\n",
      "  warnings.warn('No data matching constraint %s' % constraint)\n",
      "/home/idies/lsst/stack/miniconda3-4.7.10-4d7b902/Linux64/sims_maf/2.13.0.sims-24-gbe21ed04+1/python/lsst/sims/maf/metricBundles/metricBundleGroup.py:302: UserWarning:  This means skipping metrics ['coadd_5_r :  r and proposalId 5 : HealpixSlicer']\n",
      "  warnings.warn(' This means skipping metrics %s' % metricsSkipped)\n"
     ]
    },
    {
     "name": "stdout",
     "output_type": "stream",
     "text": [
      "Querying database SummaryAllProps with constraint filter = \"g\" and proposalId = 6 for columns ['fieldDec', 'fieldRA', 'fiveSigmaDepth']\n"
     ]
    },
    {
     "name": "stderr",
     "output_type": "stream",
     "text": [
      "/home/idies/lsst/stack/miniconda3-4.7.10-4d7b902/Linux64/sims_maf/2.13.0.sims-24-gbe21ed04+1/python/lsst/sims/maf/metricBundles/metricBundleGroup.py:298: UserWarning: No data matching constraint filter = \"g\" and proposalId = 6\n",
      "  warnings.warn('No data matching constraint %s' % constraint)\n",
      "/home/idies/lsst/stack/miniconda3-4.7.10-4d7b902/Linux64/sims_maf/2.13.0.sims-24-gbe21ed04+1/python/lsst/sims/maf/metricBundles/metricBundleGroup.py:302: UserWarning:  This means skipping metrics ['coadd_6_g :  g and proposalId 6 : HealpixSlicer']\n",
      "  warnings.warn(' This means skipping metrics %s' % metricsSkipped)\n"
     ]
    },
    {
     "name": "stdout",
     "output_type": "stream",
     "text": [
      "Querying database SummaryAllProps with constraint filter = \"i\" and proposalId = 2 for columns ['fieldDec', 'fieldRA', 'fiveSigmaDepth']\n"
     ]
    },
    {
     "name": "stderr",
     "output_type": "stream",
     "text": [
      "/home/idies/lsst/stack/miniconda3-4.7.10-4d7b902/Linux64/sims_maf/2.13.0.sims-24-gbe21ed04+1/python/lsst/sims/maf/metricBundles/metricBundleGroup.py:298: UserWarning: No data matching constraint filter = \"i\" and proposalId = 2\n",
      "  warnings.warn('No data matching constraint %s' % constraint)\n",
      "/home/idies/lsst/stack/miniconda3-4.7.10-4d7b902/Linux64/sims_maf/2.13.0.sims-24-gbe21ed04+1/python/lsst/sims/maf/metricBundles/metricBundleGroup.py:302: UserWarning:  This means skipping metrics ['coadd_2_i :  i and proposalId 2 : HealpixSlicer']\n",
      "  warnings.warn(' This means skipping metrics %s' % metricsSkipped)\n"
     ]
    },
    {
     "name": "stdout",
     "output_type": "stream",
     "text": [
      "Querying database SummaryAllProps with constraint filter = \"i\" and proposalId = 6 for columns ['fieldDec', 'fieldRA', 'fiveSigmaDepth']\n",
      "Found 9580 visits\n",
      "Running:  ['coadd_6_i']\n",
      "Completed metric generation.\n",
      "Running reduce methods.\n",
      "Running summary statistics.\n",
      "Completed.\n",
      "Querying database SummaryAllProps with constraint filter = \"y\" and proposalId = 5 for columns ['fieldDec', 'fieldRA', 'fiveSigmaDepth']\n",
      "Found 9414 visits\n",
      "Running:  ['coadd_5_y']\n",
      "Completed metric generation.\n",
      "Running reduce methods.\n",
      "Running summary statistics.\n",
      "Completed.\n",
      "Querying database SummaryAllProps with constraint filter = \"i\" and proposalId = 3 for columns ['fieldDec', 'fieldRA', 'fiveSigmaDepth']\n",
      "Found 9738 visits\n",
      "Running:  ['coadd_3_i']\n",
      "Completed metric generation.\n",
      "Running reduce methods.\n",
      "Running summary statistics.\n",
      "Completed.\n",
      "Querying database SummaryAllProps with constraint filter = \"y\" and proposalId = 2 for columns ['fieldDec', 'fieldRA', 'fiveSigmaDepth']\n",
      "Found 9545 visits\n",
      "Running:  ['coadd_2_y']\n",
      "Completed metric generation.\n",
      "Running reduce methods.\n",
      "Running summary statistics.\n",
      "Completed.\n",
      "Querying database SummaryAllProps with constraint filter = \"u\" and proposalId = 5 for columns ['fieldDec', 'fieldRA', 'fiveSigmaDepth']\n",
      "Found 1272 visits\n",
      "Running:  ['coadd_5_u']\n",
      "Completed metric generation.\n",
      "Running reduce methods.\n",
      "Running summary statistics.\n",
      "Completed.\n",
      "Querying database SummaryAllProps with constraint filter = \"u\" and proposalId = 3 for columns ['fieldDec', 'fieldRA', 'fiveSigmaDepth']\n",
      "Found 2533 visits\n",
      "Running:  ['coadd_3_u']\n",
      "Completed metric generation.\n",
      "Running reduce methods.\n",
      "Running summary statistics.\n",
      "Completed.\n",
      "Querying database SummaryAllProps with constraint filter = \"y\" and proposalId = 6 for columns ['fieldDec', 'fieldRA', 'fiveSigmaDepth']\n",
      "Found 9575 visits\n",
      "Running:  ['coadd_6_y']\n",
      "Completed metric generation.\n",
      "Running reduce methods.\n",
      "Running summary statistics.\n",
      "Completed.\n",
      "Querying database SummaryAllProps with constraint filter = \"u\" and proposalId = 6 for columns ['fieldDec', 'fieldRA', 'fiveSigmaDepth']\n",
      "Found 1584 visits\n",
      "Running:  ['coadd_6_u']\n",
      "Completed metric generation.\n",
      "Running reduce methods.\n",
      "Running summary statistics.\n",
      "Completed.\n",
      "Querying database SummaryAllProps with constraint filter = \"z\" and proposalId = 6 for columns ['fieldDec', 'fieldRA', 'fiveSigmaDepth']\n",
      "Found 12465 visits\n",
      "Running:  ['coadd_6_z']\n",
      "Completed metric generation.\n",
      "Running reduce methods.\n",
      "Running summary statistics.\n",
      "Completed.\n",
      "Querying database SummaryAllProps with constraint filter = \"i\" and proposalId = 5 for columns ['fieldDec', 'fieldRA', 'fiveSigmaDepth']\n",
      "Found 9392 visits\n",
      "Running:  ['coadd_5_i']\n",
      "Completed metric generation.\n",
      "Running reduce methods.\n",
      "Running summary statistics.\n",
      "Completed.\n",
      "Querying database SummaryAllProps with constraint filter = \"g\" and proposalId = 5 for columns ['fieldDec', 'fieldRA', 'fiveSigmaDepth']\n",
      "Found 4672 visits\n",
      "Running:  ['coadd_5_g']\n",
      "Completed metric generation.\n",
      "Running reduce methods.\n",
      "Running summary statistics.\n",
      "Completed.\n",
      "Querying database SummaryAllProps with constraint filter = \"z\" and proposalId = 5 for columns ['fieldDec', 'fieldRA', 'fiveSigmaDepth']\n",
      "Found 12298 visits\n",
      "Running:  ['coadd_5_z']\n",
      "Completed metric generation.\n",
      "Running reduce methods.\n",
      "Running summary statistics.\n",
      "Completed.\n",
      "Querying database SummaryAllProps with constraint filter = \"g\" and proposalId = 2 for columns ['fieldDec', 'fieldRA', 'fiveSigmaDepth']\n",
      "Found 4806 visits\n",
      "Running:  ['coadd_2_g']\n",
      "Completed metric generation.\n",
      "Running reduce methods.\n",
      "Running summary statistics.\n",
      "Completed.\n",
      "Querying database SummaryAllProps with constraint filter = \"u\" and proposalId = 2 for columns ['fieldDec', 'fieldRA', 'fiveSigmaDepth']\n",
      "Found 1338 visits\n",
      "Running:  ['coadd_2_u']\n",
      "Completed metric generation.\n",
      "Running reduce methods.\n",
      "Running summary statistics.\n",
      "Completed.\n",
      "Querying database SummaryAllProps with constraint filter = \"z\" and proposalId = 3 for columns ['fieldDec', 'fieldRA', 'fiveSigmaDepth']\n",
      "Found 12784 visits\n",
      "Running:  ['coadd_3_z']\n",
      "Completed metric generation.\n",
      "Running reduce methods.\n",
      "Running summary statistics.\n",
      "Completed.\n",
      "Querying database SummaryAllProps with constraint filter = \"y\" and proposalId = 3 for columns ['fieldDec', 'fieldRA', 'fiveSigmaDepth']\n",
      "Found 9798 visits\n",
      "Running:  ['coadd_3_y']\n",
      "Completed metric generation.\n",
      "Running reduce methods.\n",
      "Running summary statistics.\n",
      "Completed.\n",
      "Querying database SummaryAllProps with constraint filter = \"z\" and proposalId = 2 for columns ['fieldDec', 'fieldRA', 'fiveSigmaDepth']\n",
      "Found 12468 visits\n",
      "Running:  ['coadd_2_z']\n",
      "Completed metric generation.\n",
      "Running reduce methods.\n",
      "Running summary statistics.\n",
      "Completed.\n",
      "Querying database SummaryAllProps with constraint filter = \"r\" and proposalId = 6 for columns ['fieldDec', 'fieldRA', 'fiveSigmaDepth']\n",
      "Found 9583 visits\n",
      "Running:  ['coadd_6_r']\n",
      "Completed metric generation.\n",
      "Running reduce methods.\n",
      "Running summary statistics.\n",
      "Completed.\n",
      "Querying database SummaryAllProps with constraint filter = \"r\" and proposalId = 3 for columns ['fieldDec', 'fieldRA', 'fiveSigmaDepth']\n",
      "Found 9825 visits\n",
      "Running:  ['coadd_3_r']\n",
      "Completed metric generation.\n",
      "Running reduce methods.\n",
      "Running summary statistics.\n",
      "Completed.\n",
      "Querying database SummaryAllProps with constraint filter = \"g\" and proposalId = 3 for columns ['fieldDec', 'fieldRA', 'fiveSigmaDepth']\n",
      "Found 4882 visits\n",
      "Running:  ['coadd_3_g']\n",
      "Completed metric generation.\n",
      "Running reduce methods.\n",
      "Running summary statistics.\n",
      "Completed.\n",
      "Querying database SummaryAllProps with constraint filter = \"r\" and proposalId = 2 for columns ['fieldDec', 'fieldRA', 'fiveSigmaDepth']\n",
      "Found 9624 visits\n",
      "Running:  ['coadd_2_r']\n",
      "Completed metric generation.\n",
      "Running reduce methods.\n",
      "Running summary statistics.\n",
      "Completed.\n",
      "Querying database SummaryAllProps with constraint filter = \"r\" and proposalId = 5 for columns ['fieldDec', 'fieldRA', 'fiveSigmaDepth']\n",
      "Found 9404 visits\n",
      "Running:  ['coadd_5_r']\n",
      "Completed metric generation.\n",
      "Running reduce methods.\n",
      "Running summary statistics.\n",
      "Completed.\n",
      "Querying database SummaryAllProps with constraint filter = \"g\" and proposalId = 6 for columns ['fieldDec', 'fieldRA', 'fiveSigmaDepth']\n",
      "Found 4790 visits\n",
      "Running:  ['coadd_6_g']\n",
      "Completed metric generation.\n",
      "Running reduce methods.\n",
      "Running summary statistics.\n",
      "Completed.\n",
      "Querying database SummaryAllProps with constraint filter = \"i\" and proposalId = 2 for columns ['fieldDec', 'fieldRA', 'fiveSigmaDepth']\n",
      "Found 9598 visits\n",
      "Running:  ['coadd_2_i']\n",
      "Completed metric generation.\n",
      "Running reduce methods.\n",
      "Running summary statistics.\n",
      "Completed.\n",
      "Querying database SummaryAllProps with constraint filter = \"i\" and proposalId = 6 for columns ['fieldDec', 'fieldRA', 'fiveSigmaDepth']\n",
      "Found 8160 visits\n",
      "Running:  ['coadd_6_i']\n",
      "Completed metric generation.\n",
      "Running reduce methods.\n",
      "Running summary statistics.\n",
      "Completed.\n",
      "Querying database SummaryAllProps with constraint filter = \"y\" and proposalId = 5 for columns ['fieldDec', 'fieldRA', 'fiveSigmaDepth']\n",
      "Found 8383 visits\n",
      "Running:  ['coadd_5_y']\n",
      "Completed metric generation.\n",
      "Running reduce methods.\n",
      "Running summary statistics.\n",
      "Completed.\n",
      "Querying database SummaryAllProps with constraint filter = \"i\" and proposalId = 3 for columns ['fieldDec', 'fieldRA', 'fiveSigmaDepth']\n",
      "Found 8420 visits\n",
      "Running:  ['coadd_3_i']\n",
      "Completed metric generation.\n",
      "Running reduce methods.\n",
      "Running summary statistics.\n",
      "Completed.\n",
      "Querying database SummaryAllProps with constraint filter = \"y\" and proposalId = 2 for columns ['fieldDec', 'fieldRA', 'fiveSigmaDepth']\n",
      "Found 8351 visits\n",
      "Running:  ['coadd_2_y']\n",
      "Completed metric generation.\n",
      "Running reduce methods.\n",
      "Running summary statistics.\n",
      "Completed.\n",
      "Querying database SummaryAllProps with constraint filter = \"u\" and proposalId = 5 for columns ['fieldDec', 'fieldRA', 'fiveSigmaDepth']\n",
      "Found 896 visits\n",
      "Running:  ['coadd_5_u']\n",
      "Completed metric generation.\n",
      "Running reduce methods.\n",
      "Running summary statistics.\n",
      "Completed.\n",
      "Querying database SummaryAllProps with constraint filter = \"u\" and proposalId = 3 for columns ['fieldDec', 'fieldRA', 'fiveSigmaDepth']\n",
      "Found 1680 visits\n",
      "Running:  ['coadd_3_u']\n",
      "Completed metric generation.\n",
      "Running reduce methods.\n",
      "Running summary statistics.\n",
      "Completed.\n",
      "Querying database SummaryAllProps with constraint filter = \"y\" and proposalId = 6 for columns ['fieldDec', 'fieldRA', 'fiveSigmaDepth']\n",
      "Found 8172 visits\n",
      "Running:  ['coadd_6_y']\n",
      "Completed metric generation.\n",
      "Running reduce methods.\n",
      "Running summary statistics.\n",
      "Completed.\n",
      "Querying database SummaryAllProps with constraint filter = \"u\" and proposalId = 6 for columns ['fieldDec', 'fieldRA', 'fiveSigmaDepth']\n",
      "Found 1048 visits\n",
      "Running:  ['coadd_6_u']\n",
      "Completed metric generation.\n",
      "Running reduce methods.\n",
      "Running summary statistics.\n",
      "Completed.\n",
      "Querying database SummaryAllProps with constraint filter = \"z\" and proposalId = 6 for columns ['fieldDec', 'fieldRA', 'fiveSigmaDepth']\n",
      "Found 10604 visits\n",
      "Running:  ['coadd_6_z']\n",
      "Completed metric generation.\n",
      "Running reduce methods.\n",
      "Running summary statistics.\n",
      "Completed.\n",
      "Querying database SummaryAllProps with constraint filter = \"i\" and proposalId = 5 for columns ['fieldDec', 'fieldRA', 'fiveSigmaDepth']\n",
      "Found 8370 visits\n",
      "Running:  ['coadd_5_i']\n",
      "Completed metric generation.\n",
      "Running reduce methods.\n",
      "Running summary statistics.\n",
      "Completed.\n",
      "Querying database SummaryAllProps with constraint filter = \"g\" and proposalId = 5 for columns ['fieldDec', 'fieldRA', 'fiveSigmaDepth']\n",
      "Found 4160 visits\n",
      "Running:  ['coadd_5_g']\n",
      "Completed metric generation.\n",
      "Running reduce methods.\n",
      "Running summary statistics.\n",
      "Completed.\n",
      "Querying database SummaryAllProps with constraint filter = \"z\" and proposalId = 5 for columns ['fieldDec', 'fieldRA', 'fiveSigmaDepth']\n",
      "Found 10847 visits\n",
      "Running:  ['coadd_5_z']\n",
      "Completed metric generation.\n",
      "Running reduce methods.\n",
      "Running summary statistics.\n",
      "Completed.\n",
      "Querying database SummaryAllProps with constraint filter = \"g\" and proposalId = 2 for columns ['fieldDec', 'fieldRA', 'fiveSigmaDepth']\n",
      "Found 4146 visits\n",
      "Running:  ['coadd_2_g']\n",
      "Completed metric generation.\n",
      "Running reduce methods.\n",
      "Running summary statistics.\n",
      "Completed.\n",
      "Querying database SummaryAllProps with constraint filter = \"u\" and proposalId = 2 for columns ['fieldDec', 'fieldRA', 'fiveSigmaDepth']\n",
      "Found 832 visits\n",
      "Running:  ['coadd_2_u']\n",
      "Completed metric generation.\n",
      "Running reduce methods.\n",
      "Running summary statistics.\n",
      "Completed.\n",
      "Querying database SummaryAllProps with constraint filter = \"z\" and proposalId = 3 for columns ['fieldDec', 'fieldRA', 'fiveSigmaDepth']\n",
      "Found 10981 visits\n",
      "Running:  ['coadd_3_z']\n",
      "Completed metric generation.\n",
      "Running reduce methods.\n",
      "Running summary statistics.\n",
      "Completed.\n",
      "Querying database SummaryAllProps with constraint filter = \"y\" and proposalId = 3 for columns ['fieldDec', 'fieldRA', 'fiveSigmaDepth']\n",
      "Found 8371 visits\n",
      "Running:  ['coadd_3_y']\n",
      "Completed metric generation.\n",
      "Running reduce methods.\n",
      "Running summary statistics.\n",
      "Completed.\n",
      "Querying database SummaryAllProps with constraint filter = \"z\" and proposalId = 2 for columns ['fieldDec', 'fieldRA', 'fiveSigmaDepth']\n",
      "Found 10938 visits\n",
      "Running:  ['coadd_2_z']\n",
      "Completed metric generation.\n",
      "Running reduce methods.\n",
      "Running summary statistics.\n",
      "Completed.\n",
      "Querying database SummaryAllProps with constraint filter = \"r\" and proposalId = 6 for columns ['fieldDec', 'fieldRA', 'fiveSigmaDepth']\n",
      "Found 8160 visits\n",
      "Running:  ['coadd_6_r']\n",
      "Completed metric generation.\n",
      "Running reduce methods.\n",
      "Running summary statistics.\n",
      "Completed.\n",
      "Querying database SummaryAllProps with constraint filter = \"r\" and proposalId = 3 for columns ['fieldDec', 'fieldRA', 'fiveSigmaDepth']\n",
      "Found 8407 visits\n",
      "Running:  ['coadd_3_r']\n",
      "Completed metric generation.\n",
      "Running reduce methods.\n",
      "Running summary statistics.\n",
      "Completed.\n",
      "Querying database SummaryAllProps with constraint filter = \"g\" and proposalId = 3 for columns ['fieldDec', 'fieldRA', 'fiveSigmaDepth']\n",
      "Found 4214 visits\n",
      "Running:  ['coadd_3_g']\n",
      "Completed metric generation.\n",
      "Running reduce methods.\n",
      "Running summary statistics.\n",
      "Completed.\n",
      "Querying database SummaryAllProps with constraint filter = \"r\" and proposalId = 2 for columns ['fieldDec', 'fieldRA', 'fiveSigmaDepth']\n",
      "Found 8353 visits\n",
      "Running:  ['coadd_2_r']\n",
      "Completed metric generation.\n",
      "Running reduce methods.\n",
      "Running summary statistics.\n",
      "Completed.\n",
      "Querying database SummaryAllProps with constraint filter = \"r\" and proposalId = 5 for columns ['fieldDec', 'fieldRA', 'fiveSigmaDepth']\n",
      "Found 8409 visits\n",
      "Running:  ['coadd_5_r']\n",
      "Completed metric generation.\n",
      "Running reduce methods.\n",
      "Running summary statistics.\n",
      "Completed.\n",
      "Querying database SummaryAllProps with constraint filter = \"g\" and proposalId = 6 for columns ['fieldDec', 'fieldRA', 'fiveSigmaDepth']\n",
      "Found 4070 visits\n",
      "Running:  ['coadd_6_g']\n",
      "Completed metric generation.\n",
      "Running reduce methods.\n",
      "Running summary statistics.\n",
      "Completed.\n",
      "Querying database SummaryAllProps with constraint filter = \"i\" and proposalId = 2 for columns ['fieldDec', 'fieldRA', 'fiveSigmaDepth']\n",
      "Found 8369 visits\n",
      "Running:  ['coadd_2_i']\n",
      "Completed metric generation.\n",
      "Running reduce methods.\n",
      "Running summary statistics.\n",
      "Completed.\n",
      "Querying database SummaryAllProps with constraint filter = \"i\" and proposalId = 6 for columns ['fieldDec', 'fieldRA', 'fiveSigmaDepth']\n",
      "Found 8141 visits\n",
      "Running:  ['coadd_6_i']\n",
      "Completed metric generation.\n",
      "Running reduce methods.\n",
      "Running summary statistics.\n",
      "Completed.\n",
      "Querying database SummaryAllProps with constraint filter = \"y\" and proposalId = 5 for columns ['fieldDec', 'fieldRA', 'fiveSigmaDepth']\n",
      "Found 8145 visits\n",
      "Running:  ['coadd_5_y']\n",
      "Completed metric generation.\n",
      "Running reduce methods.\n",
      "Running summary statistics.\n",
      "Completed.\n",
      "Querying database SummaryAllProps with constraint filter = \"i\" and proposalId = 3 for columns ['fieldDec', 'fieldRA', 'fiveSigmaDepth']\n",
      "Found 8286 visits\n",
      "Running:  ['coadd_3_i']\n",
      "Completed metric generation.\n",
      "Running reduce methods.\n",
      "Running summary statistics.\n",
      "Completed.\n",
      "Querying database SummaryAllProps with constraint filter = \"y\" and proposalId = 2 for columns ['fieldDec', 'fieldRA', 'fiveSigmaDepth']\n",
      "Found 8425 visits\n",
      "Running:  ['coadd_2_y']\n",
      "Completed metric generation.\n",
      "Running reduce methods.\n",
      "Running summary statistics.\n",
      "Completed.\n",
      "Querying database SummaryAllProps with constraint filter = \"u\" and proposalId = 5 for columns ['fieldDec', 'fieldRA', 'fiveSigmaDepth']\n",
      "Found 1576 visits\n",
      "Running:  ['coadd_5_u']\n",
      "Completed metric generation.\n",
      "Running reduce methods.\n",
      "Running summary statistics.\n",
      "Completed.\n",
      "Querying database SummaryAllProps with constraint filter = \"u\" and proposalId = 3 for columns ['fieldDec', 'fieldRA', 'fiveSigmaDepth']\n",
      "Found 1264 visits\n",
      "Running:  ['coadd_3_u']\n",
      "Completed metric generation.\n",
      "Running reduce methods.\n",
      "Running summary statistics.\n",
      "Completed.\n",
      "Querying database SummaryAllProps with constraint filter = \"y\" and proposalId = 6 for columns ['fieldDec', 'fieldRA', 'fiveSigmaDepth']\n",
      "Found 8120 visits\n",
      "Running:  ['coadd_6_y']\n",
      "Completed metric generation.\n",
      "Running reduce methods.\n",
      "Running summary statistics.\n",
      "Completed.\n",
      "Querying database SummaryAllProps with constraint filter = \"u\" and proposalId = 6 for columns ['fieldDec', 'fieldRA', 'fiveSigmaDepth']\n",
      "Found 1392 visits\n",
      "Running:  ['coadd_6_u']\n",
      "Completed metric generation.\n",
      "Running reduce methods.\n",
      "Running summary statistics.\n",
      "Completed.\n",
      "Querying database SummaryAllProps with constraint filter = \"z\" and proposalId = 6 for columns ['fieldDec', 'fieldRA', 'fiveSigmaDepth']\n",
      "Found 10580 visits\n",
      "Running:  ['coadd_6_z']\n",
      "Completed metric generation.\n",
      "Running reduce methods.\n",
      "Running summary statistics.\n",
      "Completed.\n",
      "Querying database SummaryAllProps with constraint filter = \"i\" and proposalId = 5 for columns ['fieldDec', 'fieldRA', 'fiveSigmaDepth']\n",
      "Found 8141 visits\n",
      "Running:  ['coadd_5_i']\n",
      "Completed metric generation.\n",
      "Running reduce methods.\n",
      "Running summary statistics.\n",
      "Completed.\n",
      "Querying database SummaryAllProps with constraint filter = \"g\" and proposalId = 5 for columns ['fieldDec', 'fieldRA', 'fiveSigmaDepth']\n",
      "Found 4080 visits\n",
      "Running:  ['coadd_5_g']\n",
      "Completed metric generation.\n",
      "Running reduce methods.\n",
      "Running summary statistics.\n",
      "Completed.\n",
      "Querying database SummaryAllProps with constraint filter = \"z\" and proposalId = 5 for columns ['fieldDec', 'fieldRA', 'fiveSigmaDepth']\n",
      "Found 10629 visits\n",
      "Running:  ['coadd_5_z']\n",
      "Completed metric generation.\n",
      "Running reduce methods.\n",
      "Running summary statistics.\n",
      "Completed.\n",
      "Querying database SummaryAllProps with constraint filter = \"g\" and proposalId = 2 for columns ['fieldDec', 'fieldRA', 'fiveSigmaDepth']\n",
      "Found 4205 visits\n",
      "Running:  ['coadd_2_g']\n",
      "Completed metric generation.\n",
      "Running reduce methods.\n",
      "Running summary statistics.\n",
      "Completed.\n",
      "Querying database SummaryAllProps with constraint filter = \"u\" and proposalId = 2 for columns ['fieldDec', 'fieldRA', 'fiveSigmaDepth']\n",
      "Found 2562 visits\n",
      "Running:  ['coadd_2_u']\n",
      "Completed metric generation.\n",
      "Running reduce methods.\n",
      "Running summary statistics.\n",
      "Completed.\n",
      "Querying database SummaryAllProps with constraint filter = \"z\" and proposalId = 3 for columns ['fieldDec', 'fieldRA', 'fiveSigmaDepth']\n",
      "Found 10795 visits\n",
      "Running:  ['coadd_3_z']\n",
      "Completed metric generation.\n",
      "Running reduce methods.\n",
      "Running summary statistics.\n",
      "Completed.\n",
      "Querying database SummaryAllProps with constraint filter = \"y\" and proposalId = 3 for columns ['fieldDec', 'fieldRA', 'fiveSigmaDepth']\n",
      "Found 8271 visits\n",
      "Running:  ['coadd_3_y']\n",
      "Completed metric generation.\n",
      "Running reduce methods.\n",
      "Running summary statistics.\n",
      "Completed.\n",
      "Querying database SummaryAllProps with constraint filter = \"z\" and proposalId = 2 for columns ['fieldDec', 'fieldRA', 'fiveSigmaDepth']\n",
      "Found 10949 visits\n",
      "Running:  ['coadd_2_z']\n",
      "Completed metric generation.\n",
      "Running reduce methods.\n",
      "Running summary statistics.\n",
      "Completed.\n",
      "Querying database SummaryAllProps with constraint filter = \"r\" and proposalId = 6 for columns ['fieldDec', 'fieldRA', 'fiveSigmaDepth']\n",
      "Found 8104 visits\n",
      "Running:  ['coadd_6_r']\n",
      "Completed metric generation.\n",
      "Running reduce methods.\n",
      "Running summary statistics.\n",
      "Completed.\n",
      "Querying database SummaryAllProps with constraint filter = \"r\" and proposalId = 3 for columns ['fieldDec', 'fieldRA', 'fiveSigmaDepth']\n",
      "Found 8219 visits\n",
      "Running:  ['coadd_3_r']\n",
      "Completed metric generation.\n",
      "Running reduce methods.\n",
      "Running summary statistics.\n",
      "Completed.\n",
      "Querying database SummaryAllProps with constraint filter = \"g\" and proposalId = 3 for columns ['fieldDec', 'fieldRA', 'fiveSigmaDepth']\n",
      "Found 4120 visits\n",
      "Running:  ['coadd_3_g']\n",
      "Completed metric generation.\n",
      "Running reduce methods.\n",
      "Running summary statistics.\n",
      "Completed.\n",
      "Querying database SummaryAllProps with constraint filter = \"r\" and proposalId = 2 for columns ['fieldDec', 'fieldRA', 'fiveSigmaDepth']\n",
      "Found 8402 visits\n",
      "Running:  ['coadd_2_r']\n",
      "Completed metric generation.\n",
      "Running reduce methods.\n",
      "Running summary statistics.\n",
      "Completed.\n",
      "Querying database SummaryAllProps with constraint filter = \"r\" and proposalId = 5 for columns ['fieldDec', 'fieldRA', 'fiveSigmaDepth']\n",
      "Found 8130 visits\n",
      "Running:  ['coadd_5_r']\n",
      "Completed metric generation.\n",
      "Running reduce methods.\n",
      "Running summary statistics.\n",
      "Completed.\n",
      "Querying database SummaryAllProps with constraint filter = \"g\" and proposalId = 6 for columns ['fieldDec', 'fieldRA', 'fiveSigmaDepth']\n",
      "Found 4086 visits\n",
      "Running:  ['coadd_6_g']\n",
      "Completed metric generation.\n",
      "Running reduce methods.\n",
      "Running summary statistics.\n",
      "Completed.\n",
      "Querying database SummaryAllProps with constraint filter = \"i\" and proposalId = 2 for columns ['fieldDec', 'fieldRA', 'fiveSigmaDepth']\n",
      "Found 8380 visits\n",
      "Running:  ['coadd_2_i']\n",
      "Completed metric generation.\n",
      "Running reduce methods.\n",
      "Running summary statistics.\n",
      "Completed.\n",
      "Querying database SummaryAllProps with constraint filter = \"i\" and proposalId = 6 for columns ['fieldDec', 'fieldRA', 'fiveSigmaDepth']\n",
      "Found 9490 visits\n",
      "Running:  ['coadd_6_i']\n",
      "Completed metric generation.\n",
      "Running reduce methods.\n",
      "Running summary statistics.\n",
      "Completed.\n",
      "Querying database SummaryAllProps with constraint filter = \"y\" and proposalId = 5 for columns ['fieldDec', 'fieldRA', 'fiveSigmaDepth']\n",
      "Found 9367 visits\n",
      "Running:  ['coadd_5_y']\n",
      "Completed metric generation.\n",
      "Running reduce methods.\n",
      "Running summary statistics.\n",
      "Completed.\n",
      "Querying database SummaryAllProps with constraint filter = \"i\" and proposalId = 3 for columns ['fieldDec', 'fieldRA', 'fiveSigmaDepth']\n",
      "Found 9290 visits\n",
      "Running:  ['coadd_3_i']\n",
      "Completed metric generation.\n",
      "Running reduce methods.\n",
      "Running summary statistics.\n",
      "Completed.\n",
      "Querying database SummaryAllProps with constraint filter = \"y\" and proposalId = 2 for columns ['fieldDec', 'fieldRA', 'fiveSigmaDepth']\n",
      "Found 9200 visits\n",
      "Running:  ['coadd_2_y']\n",
      "Completed metric generation.\n",
      "Running reduce methods.\n",
      "Running summary statistics.\n",
      "Completed.\n",
      "Querying database SummaryAllProps with constraint filter = \"u\" and proposalId = 5 for columns ['fieldDec', 'fieldRA', 'fiveSigmaDepth']\n",
      "Found 1360 visits\n",
      "Running:  ['coadd_5_u']\n",
      "Completed metric generation.\n",
      "Running reduce methods.\n",
      "Running summary statistics.\n",
      "Completed.\n",
      "Querying database SummaryAllProps with constraint filter = \"u\" and proposalId = 3 for columns ['fieldDec', 'fieldRA', 'fiveSigmaDepth']\n",
      "Found 1568 visits\n",
      "Running:  ['coadd_3_u']\n",
      "Completed metric generation.\n",
      "Running reduce methods.\n",
      "Running summary statistics.\n",
      "Completed.\n",
      "Querying database SummaryAllProps with constraint filter = \"y\" and proposalId = 6 for columns ['fieldDec', 'fieldRA', 'fiveSigmaDepth']\n",
      "Found 9540 visits\n",
      "Running:  ['coadd_6_y']\n",
      "Completed metric generation.\n",
      "Running reduce methods.\n",
      "Running summary statistics.\n",
      "Completed.\n",
      "Querying database SummaryAllProps with constraint filter = \"u\" and proposalId = 6 for columns ['fieldDec', 'fieldRA', 'fiveSigmaDepth']\n",
      "Found 2553 visits\n",
      "Running:  ['coadd_6_u']\n",
      "Completed metric generation.\n",
      "Running reduce methods.\n",
      "Running summary statistics.\n",
      "Completed.\n",
      "Querying database SummaryAllProps with constraint filter = \"z\" and proposalId = 6 for columns ['fieldDec', 'fieldRA', 'fiveSigmaDepth']\n",
      "Found 12414 visits\n",
      "Running:  ['coadd_6_z']\n",
      "Completed metric generation.\n",
      "Running reduce methods.\n",
      "Running summary statistics.\n",
      "Completed.\n",
      "Querying database SummaryAllProps with constraint filter = \"i\" and proposalId = 5 for columns ['fieldDec', 'fieldRA', 'fiveSigmaDepth']\n",
      "Found 9322 visits\n",
      "Running:  ['coadd_5_i']\n",
      "Completed metric generation.\n",
      "Running reduce methods.\n",
      "Running summary statistics.\n",
      "Completed.\n",
      "Querying database SummaryAllProps with constraint filter = \"g\" and proposalId = 5 for columns ['fieldDec', 'fieldRA', 'fiveSigmaDepth']\n",
      "Found 4677 visits\n",
      "Running:  ['coadd_5_g']\n",
      "Completed metric generation.\n",
      "Running reduce methods.\n",
      "Running summary statistics.\n",
      "Completed.\n",
      "Querying database SummaryAllProps with constraint filter = \"z\" and proposalId = 5 for columns ['fieldDec', 'fieldRA', 'fiveSigmaDepth']\n",
      "Found 12202 visits\n",
      "Running:  ['coadd_5_z']\n",
      "Completed metric generation.\n",
      "Running reduce methods.\n",
      "Running summary statistics.\n",
      "Completed.\n",
      "Querying database SummaryAllProps with constraint filter = \"g\" and proposalId = 2 for columns ['fieldDec', 'fieldRA', 'fiveSigmaDepth']\n",
      "Found 4610 visits\n",
      "Running:  ['coadd_2_g']\n",
      "Completed metric generation.\n",
      "Running reduce methods.\n",
      "Running summary statistics.\n",
      "Completed.\n",
      "Querying database SummaryAllProps with constraint filter = \"u\" and proposalId = 2 for columns ['fieldDec', 'fieldRA', 'fiveSigmaDepth']\n",
      "Found 1376 visits\n",
      "Running:  ['coadd_2_u']\n",
      "Completed metric generation.\n",
      "Running reduce methods.\n",
      "Running summary statistics.\n",
      "Completed.\n",
      "Querying database SummaryAllProps with constraint filter = \"z\" and proposalId = 3 for columns ['fieldDec', 'fieldRA', 'fiveSigmaDepth']\n",
      "Found 12038 visits\n",
      "Running:  ['coadd_3_z']\n",
      "Completed metric generation.\n",
      "Running reduce methods.\n",
      "Running summary statistics.\n",
      "Completed.\n",
      "Querying database SummaryAllProps with constraint filter = \"y\" and proposalId = 3 for columns ['fieldDec', 'fieldRA', 'fiveSigmaDepth']\n",
      "Found 9325 visits\n",
      "Running:  ['coadd_3_y']\n",
      "Completed metric generation.\n",
      "Running reduce methods.\n",
      "Running summary statistics.\n",
      "Completed.\n",
      "Querying database SummaryAllProps with constraint filter = \"z\" and proposalId = 2 for columns ['fieldDec', 'fieldRA', 'fiveSigmaDepth']\n",
      "Found 12003 visits\n",
      "Running:  ['coadd_2_z']\n",
      "Completed metric generation.\n",
      "Running reduce methods.\n",
      "Running summary statistics.\n",
      "Completed.\n",
      "Querying database SummaryAllProps with constraint filter = \"r\" and proposalId = 6 for columns ['fieldDec', 'fieldRA', 'fiveSigmaDepth']\n",
      "Found 9503 visits\n",
      "Running:  ['coadd_6_r']\n",
      "Completed metric generation.\n",
      "Running reduce methods.\n",
      "Running summary statistics.\n",
      "Completed.\n",
      "Querying database SummaryAllProps with constraint filter = \"r\" and proposalId = 3 for columns ['fieldDec', 'fieldRA', 'fiveSigmaDepth']\n",
      "Found 9298 visits\n",
      "Running:  ['coadd_3_r']\n",
      "Completed metric generation.\n",
      "Running reduce methods.\n",
      "Running summary statistics.\n",
      "Completed.\n",
      "Querying database SummaryAllProps with constraint filter = \"g\" and proposalId = 3 for columns ['fieldDec', 'fieldRA', 'fiveSigmaDepth']\n",
      "Found 4644 visits\n",
      "Running:  ['coadd_3_g']\n",
      "Completed metric generation.\n",
      "Running reduce methods.\n",
      "Running summary statistics.\n",
      "Completed.\n",
      "Querying database SummaryAllProps with constraint filter = \"r\" and proposalId = 2 for columns ['fieldDec', 'fieldRA', 'fiveSigmaDepth']\n",
      "Found 9165 visits\n",
      "Running:  ['coadd_2_r']\n",
      "Completed metric generation.\n",
      "Running reduce methods.\n",
      "Running summary statistics.\n",
      "Completed.\n",
      "Querying database SummaryAllProps with constraint filter = \"r\" and proposalId = 5 for columns ['fieldDec', 'fieldRA', 'fiveSigmaDepth']\n",
      "Found 9359 visits\n",
      "Running:  ['coadd_5_r']\n",
      "Completed metric generation.\n",
      "Running reduce methods.\n",
      "Running summary statistics.\n",
      "Completed.\n",
      "Querying database SummaryAllProps with constraint filter = \"g\" and proposalId = 6 for columns ['fieldDec', 'fieldRA', 'fiveSigmaDepth']\n",
      "Found 4750 visits\n",
      "Running:  ['coadd_6_g']\n",
      "Completed metric generation.\n",
      "Running reduce methods.\n",
      "Running summary statistics.\n",
      "Completed.\n",
      "Querying database SummaryAllProps with constraint filter = \"i\" and proposalId = 2 for columns ['fieldDec', 'fieldRA', 'fiveSigmaDepth']\n",
      "Found 9208 visits\n",
      "Running:  ['coadd_2_i']\n",
      "Completed metric generation.\n",
      "Running reduce methods.\n",
      "Running summary statistics.\n",
      "Completed.\n"
     ]
    }
   ],
   "source": [
    "metricDataPath = '/home/idies/workspace/Storage/{}/\\\n",
    "persistent/MAFOutput/DDF/MetricData/'.format(your_username)\n",
    "\n",
    "for run in dbRuns[0:5]:\n",
    "    # must set run name for each opSim to store metric data into\n",
    "    # separate files\n",
    "    for metric in coaddBDict:\n",
    "        coaddBDict[metric].setRunName(run)\n",
    "    metricGroup = metricBundles.MetricBundleGroup(coaddBDict,\\\n",
    "                    opSimDbs[run], metricDataPath, resultDbs[run])\n",
    "    metricGroup.runAll()"
   ]
  },
  {
   "cell_type": "code",
   "execution_count": 30,
   "metadata": {
    "scrolled": true
   },
   "outputs": [
    {
     "name": "stdout",
     "output_type": "stream",
     "text": [
      "Querying database SummaryAllProps with constraint filter = \"i\" and proposalId = 6 for columns ['fieldDec', 'fieldRA', 'observationStartMJD']\n",
      "Querying database SummaryAllProps with constraint filter = \"y\" and proposalId = 5 for columns ['fieldDec', 'fieldRA', 'observationStartMJD']\n",
      "Querying database SummaryAllProps with constraint filter = \"i\" and proposalId = 3 for columns ['fieldDec', 'fieldRA', 'observationStartMJD']\n",
      "Querying database SummaryAllProps with constraint filter = \"y\" and proposalId = 2 for columns ['fieldDec', 'fieldRA', 'observationStartMJD']\n",
      "Querying database SummaryAllProps with constraint filter = \"u\" and proposalId = 5 for columns ['fieldDec', 'fieldRA', 'observationStartMJD']\n",
      "Querying database SummaryAllProps with constraint filter = \"u\" and proposalId = 3 for columns ['fieldDec', 'fieldRA', 'observationStartMJD']\n",
      "Querying database SummaryAllProps with constraint filter = \"y\" and proposalId = 6 for columns ['fieldDec', 'fieldRA', 'observationStartMJD']\n",
      "Querying database SummaryAllProps with constraint filter = \"u\" and proposalId = 6 for columns ['fieldDec', 'fieldRA', 'observationStartMJD']\n",
      "Querying database SummaryAllProps with constraint filter = \"z\" and proposalId = 6 for columns ['fieldDec', 'fieldRA', 'observationStartMJD']\n",
      "Querying database SummaryAllProps with constraint filter = \"i\" and proposalId = 5 for columns ['fieldDec', 'fieldRA', 'observationStartMJD']\n",
      "Querying database SummaryAllProps with constraint filter = \"g\" and proposalId = 5 for columns ['fieldDec', 'fieldRA', 'observationStartMJD']\n",
      "Querying database SummaryAllProps with constraint filter = \"z\" and proposalId = 5 for columns ['fieldDec', 'fieldRA', 'observationStartMJD']\n",
      "Querying database SummaryAllProps with constraint filter = \"g\" and proposalId = 2 for columns ['fieldDec', 'fieldRA', 'observationStartMJD']\n",
      "Querying database SummaryAllProps with constraint filter = \"u\" and proposalId = 2 for columns ['fieldDec', 'fieldRA', 'observationStartMJD']\n",
      "Querying database SummaryAllProps with constraint filter = \"z\" and proposalId = 3 for columns ['fieldDec', 'fieldRA', 'observationStartMJD']\n",
      "Querying database SummaryAllProps with constraint filter = \"y\" and proposalId = 3 for columns ['fieldDec', 'fieldRA', 'observationStartMJD']\n",
      "Querying database SummaryAllProps with constraint filter = \"z\" and proposalId = 2 for columns ['fieldDec', 'fieldRA', 'observationStartMJD']\n",
      "Querying database SummaryAllProps with constraint filter = \"r\" and proposalId = 6 for columns ['fieldDec', 'fieldRA', 'observationStartMJD']\n",
      "Querying database SummaryAllProps with constraint filter = \"r\" and proposalId = 3 for columns ['fieldDec', 'fieldRA', 'observationStartMJD']\n",
      "Querying database SummaryAllProps with constraint filter = \"g\" and proposalId = 3 for columns ['fieldDec', 'fieldRA', 'observationStartMJD']\n",
      "Querying database SummaryAllProps with constraint filter = \"r\" and proposalId = 2 for columns ['fieldDec', 'fieldRA', 'observationStartMJD']\n",
      "Querying database SummaryAllProps with constraint filter = \"r\" and proposalId = 5 for columns ['fieldDec', 'fieldRA', 'observationStartMJD']\n",
      "Querying database SummaryAllProps with constraint filter = \"g\" and proposalId = 6 for columns ['fieldDec', 'fieldRA', 'observationStartMJD']\n",
      "Querying database SummaryAllProps with constraint filter = \"i\" and proposalId = 2 for columns ['fieldDec', 'fieldRA', 'observationStartMJD']\n",
      "Querying database SummaryAllProps with constraint filter = \"i\" and proposalId = 6 for columns ['fieldDec', 'fieldRA', 'observationStartMJD']\n",
      "Found 9580 visits\n",
      "Running:  ['nvisit_6_i']\n",
      "Completed metric generation.\n",
      "Running reduce methods.\n",
      "Running summary statistics.\n",
      "Completed.\n",
      "Querying database SummaryAllProps with constraint filter = \"y\" and proposalId = 5 for columns ['fieldDec', 'fieldRA', 'observationStartMJD']\n",
      "Found 9414 visits\n",
      "Running:  ['nvisit_5_y']\n",
      "Completed metric generation.\n",
      "Running reduce methods.\n",
      "Running summary statistics.\n",
      "Completed.\n",
      "Querying database SummaryAllProps with constraint filter = \"i\" and proposalId = 3 for columns ['fieldDec', 'fieldRA', 'observationStartMJD']\n",
      "Found 9738 visits\n",
      "Running:  ['nvisit_3_i']\n",
      "Completed metric generation.\n",
      "Running reduce methods.\n",
      "Running summary statistics.\n",
      "Completed.\n",
      "Querying database SummaryAllProps with constraint filter = \"y\" and proposalId = 2 for columns ['fieldDec', 'fieldRA', 'observationStartMJD']\n",
      "Found 9545 visits\n",
      "Running:  ['nvisit_2_y']\n",
      "Completed metric generation.\n",
      "Running reduce methods.\n",
      "Running summary statistics.\n",
      "Completed.\n",
      "Querying database SummaryAllProps with constraint filter = \"u\" and proposalId = 5 for columns ['fieldDec', 'fieldRA', 'observationStartMJD']\n",
      "Found 1272 visits\n",
      "Running:  ['nvisit_5_u']\n",
      "Completed metric generation.\n",
      "Running reduce methods.\n",
      "Running summary statistics.\n",
      "Completed.\n",
      "Querying database SummaryAllProps with constraint filter = \"u\" and proposalId = 3 for columns ['fieldDec', 'fieldRA', 'observationStartMJD']\n",
      "Found 2533 visits\n",
      "Running:  ['nvisit_3_u']\n",
      "Completed metric generation.\n",
      "Running reduce methods.\n",
      "Running summary statistics.\n",
      "Completed.\n",
      "Querying database SummaryAllProps with constraint filter = \"y\" and proposalId = 6 for columns ['fieldDec', 'fieldRA', 'observationStartMJD']\n",
      "Found 9575 visits\n",
      "Running:  ['nvisit_6_y']\n",
      "Completed metric generation.\n",
      "Running reduce methods.\n",
      "Running summary statistics.\n",
      "Completed.\n",
      "Querying database SummaryAllProps with constraint filter = \"u\" and proposalId = 6 for columns ['fieldDec', 'fieldRA', 'observationStartMJD']\n",
      "Found 1584 visits\n",
      "Running:  ['nvisit_6_u']\n",
      "Completed metric generation.\n",
      "Running reduce methods.\n",
      "Running summary statistics.\n",
      "Completed.\n",
      "Querying database SummaryAllProps with constraint filter = \"z\" and proposalId = 6 for columns ['fieldDec', 'fieldRA', 'observationStartMJD']\n",
      "Found 12465 visits\n",
      "Running:  ['nvisit_6_z']\n",
      "Completed metric generation.\n",
      "Running reduce methods.\n",
      "Running summary statistics.\n",
      "Completed.\n",
      "Querying database SummaryAllProps with constraint filter = \"i\" and proposalId = 5 for columns ['fieldDec', 'fieldRA', 'observationStartMJD']\n",
      "Found 9392 visits\n",
      "Running:  ['nvisit_5_i']\n",
      "Completed metric generation.\n",
      "Running reduce methods.\n",
      "Running summary statistics.\n",
      "Completed.\n",
      "Querying database SummaryAllProps with constraint filter = \"g\" and proposalId = 5 for columns ['fieldDec', 'fieldRA', 'observationStartMJD']\n",
      "Found 4672 visits\n",
      "Running:  ['nvisit_5_g']\n",
      "Completed metric generation.\n",
      "Running reduce methods.\n",
      "Running summary statistics.\n",
      "Completed.\n",
      "Querying database SummaryAllProps with constraint filter = \"z\" and proposalId = 5 for columns ['fieldDec', 'fieldRA', 'observationStartMJD']\n",
      "Found 12298 visits\n",
      "Running:  ['nvisit_5_z']\n",
      "Completed metric generation.\n",
      "Running reduce methods.\n",
      "Running summary statistics.\n",
      "Completed.\n",
      "Querying database SummaryAllProps with constraint filter = \"g\" and proposalId = 2 for columns ['fieldDec', 'fieldRA', 'observationStartMJD']\n",
      "Found 4806 visits\n",
      "Running:  ['nvisit_2_g']\n",
      "Completed metric generation.\n",
      "Running reduce methods.\n",
      "Running summary statistics.\n",
      "Completed.\n",
      "Querying database SummaryAllProps with constraint filter = \"u\" and proposalId = 2 for columns ['fieldDec', 'fieldRA', 'observationStartMJD']\n",
      "Found 1338 visits\n",
      "Running:  ['nvisit_2_u']\n",
      "Completed metric generation.\n",
      "Running reduce methods.\n",
      "Running summary statistics.\n",
      "Completed.\n",
      "Querying database SummaryAllProps with constraint filter = \"z\" and proposalId = 3 for columns ['fieldDec', 'fieldRA', 'observationStartMJD']\n",
      "Found 12784 visits\n",
      "Running:  ['nvisit_3_z']\n",
      "Completed metric generation.\n",
      "Running reduce methods.\n",
      "Running summary statistics.\n",
      "Completed.\n",
      "Querying database SummaryAllProps with constraint filter = \"y\" and proposalId = 3 for columns ['fieldDec', 'fieldRA', 'observationStartMJD']\n",
      "Found 9798 visits\n",
      "Running:  ['nvisit_3_y']\n",
      "Completed metric generation.\n",
      "Running reduce methods.\n",
      "Running summary statistics.\n",
      "Completed.\n",
      "Querying database SummaryAllProps with constraint filter = \"z\" and proposalId = 2 for columns ['fieldDec', 'fieldRA', 'observationStartMJD']\n",
      "Found 12468 visits\n",
      "Running:  ['nvisit_2_z']\n",
      "Completed metric generation.\n",
      "Running reduce methods.\n",
      "Running summary statistics.\n",
      "Completed.\n",
      "Querying database SummaryAllProps with constraint filter = \"r\" and proposalId = 6 for columns ['fieldDec', 'fieldRA', 'observationStartMJD']\n",
      "Found 9583 visits\n",
      "Running:  ['nvisit_6_r']\n",
      "Completed metric generation.\n",
      "Running reduce methods.\n",
      "Running summary statistics.\n",
      "Completed.\n",
      "Querying database SummaryAllProps with constraint filter = \"r\" and proposalId = 3 for columns ['fieldDec', 'fieldRA', 'observationStartMJD']\n",
      "Found 9825 visits\n",
      "Running:  ['nvisit_3_r']\n",
      "Completed metric generation.\n",
      "Running reduce methods.\n",
      "Running summary statistics.\n",
      "Completed.\n",
      "Querying database SummaryAllProps with constraint filter = \"g\" and proposalId = 3 for columns ['fieldDec', 'fieldRA', 'observationStartMJD']\n",
      "Found 4882 visits\n",
      "Running:  ['nvisit_3_g']\n",
      "Completed metric generation.\n",
      "Running reduce methods.\n",
      "Running summary statistics.\n",
      "Completed.\n",
      "Querying database SummaryAllProps with constraint filter = \"r\" and proposalId = 2 for columns ['fieldDec', 'fieldRA', 'observationStartMJD']\n",
      "Found 9624 visits\n",
      "Running:  ['nvisit_2_r']\n",
      "Completed metric generation.\n",
      "Running reduce methods.\n",
      "Running summary statistics.\n",
      "Completed.\n",
      "Querying database SummaryAllProps with constraint filter = \"r\" and proposalId = 5 for columns ['fieldDec', 'fieldRA', 'observationStartMJD']\n",
      "Found 9404 visits\n",
      "Running:  ['nvisit_5_r']\n",
      "Completed metric generation.\n",
      "Running reduce methods.\n",
      "Running summary statistics.\n",
      "Completed.\n",
      "Querying database SummaryAllProps with constraint filter = \"g\" and proposalId = 6 for columns ['fieldDec', 'fieldRA', 'observationStartMJD']\n",
      "Found 4790 visits\n",
      "Running:  ['nvisit_6_g']\n",
      "Completed metric generation.\n",
      "Running reduce methods.\n",
      "Running summary statistics.\n",
      "Completed.\n",
      "Querying database SummaryAllProps with constraint filter = \"i\" and proposalId = 2 for columns ['fieldDec', 'fieldRA', 'observationStartMJD']\n",
      "Found 9598 visits\n",
      "Running:  ['nvisit_2_i']\n",
      "Completed metric generation.\n",
      "Running reduce methods.\n",
      "Running summary statistics.\n",
      "Completed.\n"
     ]
    }
   ],
   "source": [
    "for run in dbRuns[0:2]:\n",
    "    # must set run name for each opSim to store metric data into\n",
    "    # separate files\n",
    "    for metric in nvisitBDict:\n",
    "        nvisitBDict[metric].setRunName(run)\n",
    "    metricGroup = metricBundles.MetricBundleGroup(nvisitBDict,\\\n",
    "                    opSimDbs[run], metricDataPath, resultDbs[run])\n",
    "    metricGroup.runAll()"
   ]
  },
  {
   "cell_type": "code",
   "execution_count": null,
   "metadata": {},
   "outputs": [],
   "source": []
  }
 ],
 "metadata": {
  "kernelspec": {
   "display_name": "Python 3",
   "language": "python",
   "name": "python3"
  },
  "language_info": {
   "codemirror_mode": {
    "name": "ipython",
    "version": 3
   },
   "file_extension": ".py",
   "mimetype": "text/x-python",
   "name": "python",
   "nbconvert_exporter": "python",
   "pygments_lexer": "ipython3",
   "version": "3.7.2"
  }
 },
 "nbformat": 4,
 "nbformat_minor": 4
}
