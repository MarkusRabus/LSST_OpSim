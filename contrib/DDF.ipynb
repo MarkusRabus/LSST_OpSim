{
 "cells": [
  {
   "cell_type": "markdown",
   "metadata": {},
   "source": [
    "### Test DDF against LSST AGN SC DDF Cadence White Paper"
   ]
  },
  {
   "cell_type": "code",
   "execution_count": 1,
   "metadata": {},
   "outputs": [],
   "source": [
    "#Please enter your SciServer username between the single quotes below!\n",
    "your_username = ''"
   ]
  },
  {
   "cell_type": "code",
   "execution_count": 2,
   "metadata": {},
   "outputs": [],
   "source": [
    "# import matplotlib to show plots inline.\n",
    "%matplotlib inline\n",
    "import matplotlib.pyplot as plt\n",
    "import pandas as pd\n",
    "import numpy as np\n",
    "import glob\n",
    "import os"
   ]
  },
  {
   "cell_type": "markdown",
   "metadata": {},
   "source": [
    "Import the sims_maf modules needed."
   ]
  },
  {
   "cell_type": "code",
   "execution_count": 3,
   "metadata": {},
   "outputs": [],
   "source": [
    "# import lsst.sim.maf moduels modules\n",
    "import lsst.sims.maf.db as db\n",
    "import lsst.sims.maf.metrics as metrics\n",
    "import lsst.sims.maf.slicers as slicers\n",
    "import lsst.sims.maf.stackers as stackers\n",
    "import lsst.sims.maf.plots as plots\n",
    "import lsst.sims.maf.metricBundles as metricBundles"
   ]
  },
  {
   "cell_type": "markdown",
   "metadata": {},
   "source": [
    "### **Important:**  \n",
    "The following code is needed before importing the `opsimUtils` module if the module is not in the same directory as the current notebook. That is, you need add the directory where the `opsimUtils` module is located to the Python search path. "
   ]
  },
  {
   "cell_type": "code",
   "execution_count": 4,
   "metadata": {},
   "outputs": [],
   "source": [
    "# add opsimUtils module path to search\n",
    "import sys\n",
    "sys.path.insert(0, '../Scripts_NBs/')"
   ]
  },
  {
   "cell_type": "code",
   "execution_count": 5,
   "metadata": {},
   "outputs": [],
   "source": [
    "# import convenience functions\n",
    "from opsimUtils import *"
   ]
  },
  {
   "cell_type": "markdown",
   "metadata": {},
   "source": [
    "#### 1. Build connections to the OpSims databases\n",
    "The first step is to initiate opsim database objects and result database objects for the opsim databases that you want to run metrics on. Two paths are needed here:\n",
    "1. `dbDir`: The path to the OpSim database directory\n",
    "2. `outDir`: The path to the directory where you want to save the metric metadata.\n",
    "\n",
    "By providing these two paths, the function `connect_dbs()` will initiate connections and store the metadata to the designated directory."
   ]
  },
  {
   "cell_type": "code",
   "execution_count": 6,
   "metadata": {},
   "outputs": [],
   "source": [
    "if your_username == '': # do NOT put your username here, put it in the cell at the top of the notebook.\n",
    "    raise Exception('Please provide your username!  See the top of the notebook.')\n",
    "\n",
    "dbDir = '/home/idies/workspace/lsst_cadence/FBS_1.4/'\n",
    "outDir = '/home/idies/workspace/Storage/{}/persistent/MAFOutput/DDF/'.format(your_username)\n",
    "\n",
    "if not os.path.exists(os.path.abspath(outDir)):\n",
    "    os.mkdir(os.path.abspath(outDir))"
   ]
  },
  {
   "cell_type": "code",
   "execution_count": 7,
   "metadata": {},
   "outputs": [],
   "source": [
    "# two dictionary are returned by the following function, \n",
    "# One (opSimDbs) is a dictionary storing all database objects\n",
    "# Another (resultDbs) is a dictionary consist of the objects directing MAF where to save metric metadata\n",
    "# Both dictionaries are indexed by OpSim run names\n",
    "opSimDbs, resultDbs = connect_dbs(dbDir, outDir)"
   ]
  },
  {
   "cell_type": "code",
   "execution_count": 8,
   "metadata": {},
   "outputs": [
    {
     "data": {
      "text/plain": [
       "['wfd_depth_scale0.85_noddf_v1.4_10yrs',\n",
       " 'twilight_neo_mod2_v1.4_10yrs',\n",
       " 'weather_0.3_v1.4_10yrs',\n",
       " 'pair_strategy_4_v1.4_10yrs',\n",
       " 'short_exp_2ns_1expt_v1.4_10yrs']"
      ]
     },
     "execution_count": 8,
     "metadata": {},
     "output_type": "execute_result"
    }
   ],
   "source": [
    "dbRuns = show_opsims(dbDir)\n",
    "dbRuns[0:5] # only show first 5 opsims"
   ]
  },
  {
   "cell_type": "markdown",
   "metadata": {},
   "source": [
    "#### 2. Declare Coadd metrics to run on above OpSims"
   ]
  },
  {
   "cell_type": "code",
   "execution_count": 10,
   "metadata": {},
   "outputs": [],
   "source": [
    "bands = ['u', 'g', 'r', 'i', 'z', 'y']\n",
    "propIds = [2, 3, 5, 6]\n",
    "coaddBDict = {}"
   ]
  },
  {
   "cell_type": "code",
   "execution_count": 11,
   "metadata": {},
   "outputs": [
    {
     "name": "stdout",
     "output_type": "stream",
     "text": [
      "Healpix slicer using NSIDE=64, approximate resolution 54.967783 arcminutes\n"
     ]
    }
   ],
   "source": [
    "metricNameTmp = 'coadd_{}_{}'\n",
    "coaddSlicer = slicers.HealpixSlicer(nside=64)"
   ]
  },
  {
   "cell_type": "code",
   "execution_count": 12,
   "metadata": {},
   "outputs": [],
   "source": [
    "for propId in propIds:\n",
    "    for band in bands:\n",
    "        metricName = metricNameTmp.format(propId, band)\n",
    "        coaddMetric = metrics.Coaddm5Metric(metricName=metricName)\n",
    "        coaddConstraint = 'filter = \"{}\"'.format(band)\n",
    "        coaddConstraint += ' and proposalId = {}'.format(propId)\n",
    "        coaddBDict[metricName] = metricBundles.MetricBundle(coaddMetric, \\\n",
    "                                coaddSlicer, coaddConstraint)"
   ]
  },
  {
   "cell_type": "code",
   "execution_count": 13,
   "metadata": {},
   "outputs": [],
   "source": [
    "# set summary statistics\n",
    "summaryMetrics = [metrics.MinMetric(), metrics.MedianMetric(),\n",
    "                  metrics.MaxMetric(), metrics.RmsMetric()]\n",
    "for metric in coaddBDict:\n",
    "    coaddBDict[metric].setSummaryMetrics(summaryMetrics)"
   ]
  },
  {
   "cell_type": "markdown",
   "metadata": {},
   "source": [
    "#### 3. Declare NVisits metrics to run on above OpSims"
   ]
  },
  {
   "cell_type": "code",
   "execution_count": 24,
   "metadata": {},
   "outputs": [],
   "source": [
    "bands = ['u', 'g', 'r', 'i', 'z', 'y']\n",
    "propIds = [2, 3, 5, 6]\n",
    "nvisitBDict = {}"
   ]
  },
  {
   "cell_type": "code",
   "execution_count": 31,
   "metadata": {},
   "outputs": [
    {
     "name": "stdout",
     "output_type": "stream",
     "text": [
      "Healpix slicer using NSIDE=32, approximate resolution 109.935565 arcminutes\n"
     ]
    }
   ],
   "source": [
    "metricNameTmp = 'nvisit_{}_{}'\n",
    "nvisitSlicer = slicers.HealpixSlicer(nside=32)"
   ]
  },
  {
   "cell_type": "code",
   "execution_count": 26,
   "metadata": {},
   "outputs": [],
   "source": [
    "for propId in propIds:\n",
    "    for band in bands:\n",
    "        metricName = metricNameTmp.format(propId, band)\n",
    "        nvisitMetric = metrics.CountMetric('observationStartMJD', metricName=metricName)\n",
    "        nvisitConstraint = 'filter = \"{}\"'.format(band)\n",
    "        nvisitConstraint += ' and proposalId = {}'.format(propId)\n",
    "        nvisitBDict[metricName] = metricBundles.MetricBundle(nvisitMetric, \\\n",
    "                                nvisitSlicer, nvisitConstraint)"
   ]
  },
  {
   "cell_type": "code",
   "execution_count": 29,
   "metadata": {},
   "outputs": [],
   "source": [
    "# set summary statistics\n",
    "summaryMetrics = [metrics.MinMetric(), metrics.MedianMetric(),\n",
    "                  metrics.MaxMetric(), metrics.RmsMetric()]\n",
    "for metric in nvisitBDict:\n",
    "    nvisitBDict[metric].setSummaryMetrics(summaryMetrics)"
   ]
  },
  {
   "cell_type": "markdown",
   "metadata": {},
   "source": [
    "#### 3. Loop over all OpSims in dbDir and run MAF\n",
    "While constructing a metricBundleGroup from a dictionary (the cell below), you will need to provide the path to a directory (`metricDataPath` in the cell below) where you would like to store the metric data (this is **DIFFERENT** than path to the metric data, `outDir`). To construct metricbundles for plotting and further analysis, this path will be needed."
   ]
  },
  {
   "cell_type": "code",
   "execution_count": null,
   "metadata": {
    "scrolled": true
   },
   "outputs": [],
   "source": [
    "metricDataPath = '/home/idies/workspace/Storage/{}/\\\n",
    "persistent/MAFOutput/DDF/MetricData/'.format(your_username)\n",
    "\n",
    "# coadd metric\n",
    "for run in dbRuns[0:5]:\n",
    "    # must set run name for each opSim to store metric data into\n",
    "    # separate files\n",
    "    for metric in coaddBDict:\n",
    "        coaddBDict[metric].setRunName(run)\n",
    "    metricGroup = metricBundles.MetricBundleGroup(coaddBDict,\\\n",
    "                    opSimDbs[run], metricDataPath, resultDbs[run])\n",
    "    metricGroup.runAll()"
   ]
  },
  {
   "cell_type": "code",
   "execution_count": null,
   "metadata": {
    "scrolled": true
   },
   "outputs": [],
   "source": [
    "# nvisit metric\n",
    "for run in dbRuns[0:2]:\n",
    "    # must set run name for each opSim to store metric data into\n",
    "    # separate files\n",
    "    for metric in nvisitBDict:\n",
    "        nvisitBDict[metric].setRunName(run)\n",
    "    metricGroup = metricBundles.MetricBundleGroup(nvisitBDict,\\\n",
    "                    opSimDbs[run], metricDataPath, resultDbs[run])\n",
    "    metricGroup.runAll()"
   ]
  },
  {
   "cell_type": "code",
   "execution_count": null,
   "metadata": {},
   "outputs": [],
   "source": []
  }
 ],
 "metadata": {
  "kernelspec": {
   "display_name": "Python 3",
   "language": "python",
   "name": "python3"
  },
  "language_info": {
   "codemirror_mode": {
    "name": "ipython",
    "version": 3
   },
   "file_extension": ".py",
   "mimetype": "text/x-python",
   "name": "python",
   "nbconvert_exporter": "python",
   "pygments_lexer": "ipython3",
   "version": "3.7.2"
  }
 },
 "nbformat": 4,
 "nbformat_minor": 4
}
