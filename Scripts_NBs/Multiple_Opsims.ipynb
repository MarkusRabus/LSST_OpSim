{
 "cells": [
  {
   "cell_type": "markdown",
   "metadata": {},
   "source": [
    "### Run MAF on Multiple FBS_1.4 OpSims\n",
    "\n",
    "The previous example showed how to run a metric analysis on one or two opSims.  But what you really want to do is to be able to run through *all* of them.  This notebook shows how to do that.  The next notebook will demonstrate how to analyze the results."
   ]
  },
  {
   "cell_type": "code",
   "execution_count": 24,
   "metadata": {},
   "outputs": [],
   "source": [
    "# import matplotlib to show plots inline.\n",
    "%matplotlib inline\n",
    "import matplotlib.pyplot as plt\n",
    "import pandas as pd\n",
    "import numpy as np\n",
    "import glob\n",
    "import os"
   ]
  },
  {
   "cell_type": "markdown",
   "metadata": {},
   "source": [
    "Import the sims_maf modules needed."
   ]
  },
  {
   "cell_type": "code",
   "execution_count": 25,
   "metadata": {},
   "outputs": [],
   "source": [
    "# import lsst.sim.maf moduels modules\n",
    "import lsst.sims.maf.db as db\n",
    "import lsst.sims.maf.metrics as metrics\n",
    "import lsst.sims.maf.slicers as slicers\n",
    "import lsst.sims.maf.stackers as stackers\n",
    "import lsst.sims.maf.plots as plots\n",
    "import lsst.sims.maf.metricBundles as metricBundles"
   ]
  },
  {
   "cell_type": "code",
   "execution_count": 26,
   "metadata": {},
   "outputs": [],
   "source": [
    "# import convenience functions\n",
    "from opsimUtils import *"
   ]
  },
  {
   "cell_type": "markdown",
   "metadata": {},
   "source": [
    "#### 1. Build connections to the OpSims databases\n",
    "The first step is to initiate opsim database objects and result database objects for the opsim databases that you want to run metrics on. Two paths are needed here:\n",
    "1. `dbDir`: The path to the OpSim database directory\n",
    "2. `outDir`: The path to the directory where you want to save the metric metadata.\n",
    "\n",
    "By providing these two paths, the function `connect_dbs()` will initiate connections and store the metadata to the designated directory.\n",
    "#### **Attention:**\n",
    "You need to update the `your_username` variable with **Your Username**."
   ]
  },
  {
   "cell_type": "code",
   "execution_count": null,
   "metadata": {},
   "outputs": [],
   "source": [
    "your_username = '' #add your username between the quotes here\n",
    "\n",
    "if your_username == '': #do NOT put your username here\n",
    "    raise Exception('Please provide your username!')\n",
    "\n",
    "dbDir = '/home/idies/workspace/lsst_cadence/FBS_1.4/'\n",
    "outDir = '/home/idies/workspace/Storage/{}/persistent/MAFOutput'.format(your_username)\n",
    "\n",
    "if not os.path.exists(os.path.abspath(outDir)):\n",
    "    os.mkdir(os.path.abspath(outDir))"
   ]
  },
  {
   "cell_type": "code",
   "execution_count": 28,
   "metadata": {},
   "outputs": [],
   "source": [
    "# two dictionary are returned by the following function, \n",
    "# One (opSimDbs) is a dictionary storing all database objects\n",
    "# Another (resultDbs) is a dictionary consist of the objects directing MAF where to save metric metadata\n",
    "# Both dictionaries are indexed by OpSim run names\n",
    "opSimDbs, resultDbs = connect_dbs(dbDir, outDir)\n",
    "\n",
    "# Collect Run names to a list\n",
    "dbRuns = list(opSimDbs.keys())"
   ]
  },
  {
   "cell_type": "markdown",
   "metadata": {},
   "source": [
    "You can use `help` to get more information about the provided convenience functions, e.g., `connect_dbs()`"
   ]
  },
  {
   "cell_type": "code",
   "execution_count": 29,
   "metadata": {},
   "outputs": [
    {
     "name": "stdout",
     "output_type": "stream",
     "text": [
      "Help on function connect_dbs in module opsimUtils:\n",
      "\n",
      "connect_dbs(dbDir, outDir)\n",
      "    Initiate database objects to all opSim databases in the provided directory.\n",
      "    Returns a dictionary consisting all database connections and a dictionary holding\n",
      "    the resultsDb objects.\n",
      "    \n",
      "    Args:\n",
      "        dbDir(str): The path to the dabase directory.\n",
      "        outDir(str): The path to the result database directory.\n",
      "    \n",
      "    Returns:\n",
      "        opSimDbs(dict): A dictionary containing the OpsimDatabase objects for opsim databases in the provided directory, keys are the run names.\n",
      "        resultDbs(str): A dictionary containing the ResultsDb objects for opsim databases in the provided directory, keys are the run names.\n",
      "\n"
     ]
    }
   ],
   "source": [
    "help(connect_dbs)"
   ]
  },
  {
   "cell_type": "markdown",
   "metadata": {},
   "source": [
    "You can also check what OpSims are available in the directory"
   ]
  },
  {
   "cell_type": "code",
   "execution_count": 30,
   "metadata": {},
   "outputs": [
    {
     "data": {
      "text/plain": [
       "['alt_roll_mod2_dust_sdf_0.20_v1.4_10yrs.db',\n",
       " 'baseline_v1.4_10yrs.db',\n",
       " 'dcr_nham3_v1.4_10yrs.db',\n",
       " 'rolling_mod3_sdf_0.20_v1.4_10yrs.db']"
      ]
     },
     "execution_count": 30,
     "metadata": {},
     "output_type": "execute_result"
    }
   ],
   "source": [
    "show_opsims(dbDir)"
   ]
  },
  {
   "cell_type": "markdown",
   "metadata": {},
   "source": [
    "#### 2. Declare some metrics to run on above OpSims"
   ]
  },
  {
   "cell_type": "code",
   "execution_count": 31,
   "metadata": {},
   "outputs": [
    {
     "name": "stdout",
     "output_type": "stream",
     "text": [
      "Healpix slicer using NSIDE=64, approximate resolution 54.967783 arcminutes\n"
     ]
    }
   ],
   "source": [
    "# Airmass Metric\n",
    "maxMetric = metrics.MaxMetric('airmass')\n",
    "airmassSlicer = slicers.HealpixSlicer(nside=64)\n",
    "airmassConstraint = 'filter = \"g\"'\n",
    "airmassConstraint += ' and note not like \"DD%\"'\n",
    "\n",
    "maxairmassSky = metricBundles.MetricBundle(maxMetric, airmassSlicer, \\\n",
    "                airmassConstraint)"
   ]
  },
  {
   "cell_type": "code",
   "execution_count": 32,
   "metadata": {},
   "outputs": [
    {
     "name": "stdout",
     "output_type": "stream",
     "text": [
      "Healpix slicer using NSIDE=64, approximate resolution 54.967783 arcminutes\n"
     ]
    }
   ],
   "source": [
    "# Coadd Metric\n",
    "coaddMetric = metrics.Coaddm5Metric()\n",
    "coaddSlicer = slicers.HealpixSlicer(nside=64)\n",
    "coaddConstraint = 'filter = \"y\"'\n",
    "coaddConstraint += ' and note not like \"DD%\"'\n",
    "\n",
    "CoaddY = metricBundles.MetricBundle(coaddMetric, coaddSlicer, \\\n",
    "                coaddConstraint)"
   ]
  },
  {
   "cell_type": "code",
   "execution_count": 33,
   "metadata": {},
   "outputs": [],
   "source": [
    "# set summary statistics\n",
    "summaryMetrics = [metrics.MinMetric(), metrics.MedianMetric(),\n",
    "                  metrics.MaxMetric(), metrics.RmsMetric()]\n",
    "maxairmassSky.setSummaryMetrics(summaryMetrics)\n",
    "CoaddY.setSummaryMetrics(summaryMetrics)"
   ]
  },
  {
   "cell_type": "code",
   "execution_count": 34,
   "metadata": {},
   "outputs": [],
   "source": [
    "# create a bundleDict for all metrics to run on each opSim\n",
    "bundleDict = {'maxairmassSky': maxairmassSky, 'CoaddY': CoaddY}"
   ]
  },
  {
   "cell_type": "markdown",
   "metadata": {},
   "source": [
    "#### 3. Loop over all OpSims in dbDir and run MAF\n",
    "While constructing a metricBundleGroup from a dictionary (the cell below), you will need to provide the path to a directory (`metricDataPath` in the cell below) where you would like to store the metric data (this is **DIFFERENT** than path to the metric data, `outDir`). To construct metricbundles for plotting and further analysis, this path will be needed."
   ]
  },
  {
   "cell_type": "code",
   "execution_count": 35,
   "metadata": {},
   "outputs": [
    {
     "name": "stdout",
     "output_type": "stream",
     "text": [
      "Querying database SummaryAllProps with constraint filter = \"y\" and note not like \"DD%\" for columns ['fieldDec', 'fieldRA', 'fiveSigmaDepth']\n",
      "Found 390345 visits\n",
      "Running:  ['CoaddY']\n",
      "Completed metric generation.\n",
      "Running reduce methods.\n",
      "Running summary statistics.\n",
      "Completed.\n",
      "Querying database SummaryAllProps with constraint filter = \"g\" and note not like \"DD%\" for columns ['fieldDec', 'fieldRA', 'airmass']\n",
      "Found 195088 visits\n",
      "Running:  ['maxairmassSky']\n",
      "Completed metric generation.\n",
      "Running reduce methods.\n",
      "Running summary statistics.\n",
      "Completed.\n",
      "Querying database SummaryAllProps with constraint filter = \"y\" and note not like \"DD%\" for columns ['fieldDec', 'fieldRA', 'fiveSigmaDepth']\n",
      "Found 384344 visits\n",
      "Running:  ['CoaddY']\n",
      "Completed metric generation.\n",
      "Running reduce methods.\n",
      "Running summary statistics.\n",
      "Completed.\n",
      "Querying database SummaryAllProps with constraint filter = \"g\" and note not like \"DD%\" for columns ['fieldDec', 'fieldRA', 'airmass']\n",
      "Found 189244 visits\n",
      "Running:  ['maxairmassSky']\n",
      "Completed metric generation.\n",
      "Running reduce methods.\n",
      "Running summary statistics.\n",
      "Completed.\n",
      "Querying database SummaryAllProps with constraint filter = \"y\" and note not like \"DD%\" for columns ['fieldDec', 'fieldRA', 'fiveSigmaDepth']\n",
      "Found 383245 visits\n",
      "Running:  ['CoaddY']\n",
      "Completed metric generation.\n",
      "Running reduce methods.\n",
      "Running summary statistics.\n",
      "Completed.\n",
      "Querying database SummaryAllProps with constraint filter = \"g\" and note not like \"DD%\" for columns ['fieldDec', 'fieldRA', 'airmass']\n",
      "Found 195488 visits\n",
      "Running:  ['maxairmassSky']\n",
      "Completed metric generation.\n",
      "Running reduce methods.\n",
      "Running summary statistics.\n",
      "Completed.\n",
      "Querying database SummaryAllProps with constraint filter = \"y\" and note not like \"DD%\" for columns ['fieldDec', 'fieldRA', 'fiveSigmaDepth']\n",
      "Found 389589 visits\n",
      "Running:  ['CoaddY']\n",
      "Completed metric generation.\n",
      "Running reduce methods.\n",
      "Running summary statistics.\n",
      "Completed.\n",
      "Querying database SummaryAllProps with constraint filter = \"g\" and note not like \"DD%\" for columns ['fieldDec', 'fieldRA', 'airmass']\n",
      "Found 191031 visits\n",
      "Running:  ['maxairmassSky']\n",
      "Completed metric generation.\n",
      "Running reduce methods.\n",
      "Running summary statistics.\n",
      "Completed.\n"
     ]
    }
   ],
   "source": [
    "metricDataPath = '/home/idies/workspace/Storage/{}/persistent/MAFOutput/MetricData/'.format(your_username)\n",
    "for run in dbRuns:\n",
    "    # must set run name for each opSim to store metric data into\n",
    "    # separate files\n",
    "    maxairmassSky.setRunName(run)\n",
    "    CoaddY.setRunName(run)\n",
    "    metricGroup = metricBundles.MetricBundleGroup(bundleDict,\\\n",
    "                    opSimDbs[run], metricDataPath, resultDbs[run])\n",
    "    metricGroup.runAll()"
   ]
  },
  {
   "cell_type": "markdown",
   "metadata": {},
   "source": [
    "Now you have computed your metric for all the opSims.  To look at those results, go through [View_Results.ipynb](./View_Results.ipynb)."
   ]
  }
 ],
 "metadata": {
  "kernelspec": {
   "display_name": "Python 3",
   "language": "python",
   "name": "python3"
  },
  "language_info": {
   "codemirror_mode": {
    "name": "ipython",
    "version": 3
   },
   "file_extension": ".py",
   "mimetype": "text/x-python",
   "name": "python",
   "nbconvert_exporter": "python",
   "pygments_lexer": "ipython3",
   "version": "3.7.2"
  }
 },
 "nbformat": 4,
 "nbformat_minor": 2
}
