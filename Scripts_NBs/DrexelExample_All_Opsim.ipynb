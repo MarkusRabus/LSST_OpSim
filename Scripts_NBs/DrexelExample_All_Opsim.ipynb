{
 "cells": [
  {
   "cell_type": "markdown",
   "metadata": {},
   "source": [
    "### Run MAF on all 75 FBS_1.4 OpSims"
   ]
  },
  {
   "cell_type": "code",
   "execution_count": 1,
   "metadata": {},
   "outputs": [],
   "source": [
    "# import matplotlib to show plots inline.\n",
    "%matplotlib inline\n",
    "import matplotlib.pyplot as plt\n",
    "import pandas as pd\n",
    "import numpy as np\n",
    "import glob\n",
    "import os"
   ]
  },
  {
   "cell_type": "code",
   "execution_count": 2,
   "metadata": {},
   "outputs": [],
   "source": [
    "# import lsst.sim.maf moduels modules\n",
    "import lsst.sims.maf.db as db\n",
    "import lsst.sims.maf.metrics as metrics\n",
    "import lsst.sims.maf.slicers as slicers\n",
    "import lsst.sims.maf.stackers as stackers\n",
    "import lsst.sims.maf.plots as plots\n",
    "import lsst.sims.maf.metricBundles as metricBundles"
   ]
  },
  {
   "cell_type": "code",
   "execution_count": 3,
   "metadata": {},
   "outputs": [],
   "source": [
    "# import convenience functions\n",
    "from opsimUtils import *"
   ]
  },
  {
   "cell_type": "markdown",
   "metadata": {},
   "source": [
    "#### 1. Build connections to the OpSims databases\n",
    "Two inputs are needed here, first is the path to the directory storing the OpSim databases, the second is the path to the directory where you want to save the metadata of the metric results. By providing these two paths, the function `connect_dbs()` will initiate connections and store the metadata to the designated directory."
   ]
  },
  {
   "cell_type": "code",
   "execution_count": 4,
   "metadata": {},
   "outputs": [],
   "source": [
    "# Two path are needed\n",
    "# 1. The path the OpSim databases\n",
    "# 2. The directory where you want to save the metric metadata\n",
    "dbDir = '../../FB_db/'\n",
    "outDir = '../TestOutput/' \n",
    "\n",
    "if not os.path.exists(os.path.abspath(outDir)):\n",
    "    os.mkdir(os.path.abspath(outDir))"
   ]
  },
  {
   "cell_type": "code",
   "execution_count": 5,
   "metadata": {},
   "outputs": [],
   "source": [
    "# two dictionary are returned by the following function, \n",
    "# One (opSimDbs) is a dictionary storing all database objects\n",
    "# Another (resultDbs) is a dictionary consist of the objects directing MAF where to save metric metadata\n",
    "# Both dictionaries are indexed by OpSim run names\n",
    "opSimDbs, resultDbs = connect_dbs(dbDir, outDir)\n",
    "\n",
    "# Collect Run names to a list\n",
    "dbRuns = list(opSimDbs.keys())"
   ]
  },
  {
   "cell_type": "markdown",
   "metadata": {},
   "source": [
    "You can also check what OpSims are available in the directory"
   ]
  },
  {
   "cell_type": "code",
   "execution_count": 6,
   "metadata": {},
   "outputs": [
    {
     "data": {
      "text/plain": [
       "['alt_roll_mod2_dust_sdf_0.20_v1.4_10yrs.db',\n",
       " 'baseline_v1.4_10yrs.db',\n",
       " 'dcr_nham3_v1.4_10yrs.db',\n",
       " 'rolling_mod3_sdf_0.20_v1.4_10yrs.db']"
      ]
     },
     "execution_count": 6,
     "metadata": {},
     "output_type": "execute_result"
    }
   ],
   "source": [
    "show_opsims(dbDir)"
   ]
  },
  {
   "cell_type": "markdown",
   "metadata": {},
   "source": [
    "#### 2. Declare some metrics to run on above OpSims"
   ]
  },
  {
   "cell_type": "code",
   "execution_count": 86,
   "metadata": {},
   "outputs": [
    {
     "name": "stdout",
     "output_type": "stream",
     "text": [
      "Healpix slicer using NSIDE=64, approximate resolution 54.967783 arcminutes\n"
     ]
    }
   ],
   "source": [
    "# Airmass Metric\n",
    "maxMetric = metrics.MaxMetric('airmass')\n",
    "airmassSlicer = slicers.HealpixSlicer(nside=64)\n",
    "airmassConstraint = 'filter = \"g\"'\n",
    "airmassConstraint += ' and note not like \"DD%\"'\n",
    "\n",
    "maxairmassSky = metricBundles.MetricBundle(maxMetric, airmassSlicer, \\\n",
    "                airmassConstraint)"
   ]
  },
  {
   "cell_type": "code",
   "execution_count": 87,
   "metadata": {},
   "outputs": [
    {
     "name": "stdout",
     "output_type": "stream",
     "text": [
      "Healpix slicer using NSIDE=64, approximate resolution 54.967783 arcminutes\n"
     ]
    }
   ],
   "source": [
    "# Coadd Metric\n",
    "coaddMetric = metrics.Coaddm5Metric()\n",
    "coaddSlicer = slicers.HealpixSlicer(nside=64)\n",
    "coaddConstraint = 'filter = \"y\"'\n",
    "coaddConstraint += ' and note not like \"DD%\"'\n",
    "\n",
    "CoaddY = metricBundles.MetricBundle(coaddMetric, coaddSlicer, \\\n",
    "                coaddConstraint)"
   ]
  },
  {
   "cell_type": "code",
   "execution_count": 88,
   "metadata": {},
   "outputs": [],
   "source": [
    "# set summary statistics\n",
    "summaryMetrics = [metrics.MinMetric(), metrics.MedianMetric(),\n",
    "                  metrics.MaxMetric(), metrics.RmsMetric()]\n",
    "maxairmassSky.setSummaryMetrics(summaryMetrics)\n",
    "CoaddY.setSummaryMetrics(summaryMetrics)"
   ]
  },
  {
   "cell_type": "code",
   "execution_count": 89,
   "metadata": {},
   "outputs": [],
   "source": [
    "# create a bundleDict for all metrics to run on each opSim\n",
    "bundleDict = {'maxairmassSky': maxairmassSky, 'CoaddY': CoaddY}"
   ]
  },
  {
   "cell_type": "markdown",
   "metadata": {},
   "source": [
    "#### 3. Loop over all OpSims in dbDir and run MAF"
   ]
  },
  {
   "cell_type": "code",
   "execution_count": 90,
   "metadata": {},
   "outputs": [
    {
     "name": "stdout",
     "output_type": "stream",
     "text": [
      "Querying database SummaryAllProps with constraint filter = \"y\" and note not like \"DD%\" for columns ['fieldDec', 'fieldRA', 'fiveSigmaDepth']\n",
      "Found 390345 visits\n",
      "Running:  ['CoaddY']\n",
      "Completed metric generation.\n",
      "Running reduce methods.\n",
      "Running summary statistics.\n",
      "Completed.\n",
      "Querying database SummaryAllProps with constraint filter = \"g\" and note not like \"DD%\" for columns ['fieldDec', 'fieldRA', 'airmass']\n",
      "Found 195088 visits\n",
      "Running:  ['maxairmassSky']\n",
      "Completed metric generation.\n",
      "Running reduce methods.\n",
      "Running summary statistics.\n",
      "Completed.\n",
      "Querying database SummaryAllProps with constraint filter = \"y\" and note not like \"DD%\" for columns ['fieldDec', 'fieldRA', 'fiveSigmaDepth']\n",
      "Found 384344 visits\n",
      "Running:  ['CoaddY']\n",
      "Completed metric generation.\n",
      "Running reduce methods.\n",
      "Running summary statistics.\n",
      "Completed.\n",
      "Querying database SummaryAllProps with constraint filter = \"g\" and note not like \"DD%\" for columns ['fieldDec', 'fieldRA', 'airmass']\n",
      "Found 189244 visits\n",
      "Running:  ['maxairmassSky']\n",
      "Completed metric generation.\n",
      "Running reduce methods.\n",
      "Running summary statistics.\n",
      "Completed.\n",
      "Querying database SummaryAllProps with constraint filter = \"y\" and note not like \"DD%\" for columns ['fieldDec', 'fieldRA', 'fiveSigmaDepth']\n",
      "Found 383245 visits\n",
      "Running:  ['CoaddY']\n",
      "Completed metric generation.\n",
      "Running reduce methods.\n",
      "Running summary statistics.\n",
      "Completed.\n",
      "Querying database SummaryAllProps with constraint filter = \"g\" and note not like \"DD%\" for columns ['fieldDec', 'fieldRA', 'airmass']\n",
      "Found 195488 visits\n",
      "Running:  ['maxairmassSky']\n",
      "Completed metric generation.\n",
      "Running reduce methods.\n",
      "Running summary statistics.\n",
      "Completed.\n",
      "Querying database SummaryAllProps with constraint filter = \"y\" and note not like \"DD%\" for columns ['fieldDec', 'fieldRA', 'fiveSigmaDepth']\n",
      "Found 389589 visits\n",
      "Running:  ['CoaddY']\n",
      "Completed metric generation.\n",
      "Running reduce methods.\n",
      "Running summary statistics.\n",
      "Completed.\n",
      "Querying database SummaryAllProps with constraint filter = \"g\" and note not like \"DD%\" for columns ['fieldDec', 'fieldRA', 'airmass']\n",
      "Found 191031 visits\n",
      "Running:  ['maxairmassSky']\n",
      "Completed metric generation.\n",
      "Running reduce methods.\n",
      "Running summary statistics.\n",
      "Completed.\n"
     ]
    }
   ],
   "source": [
    "for run in dbRuns:\n",
    "    \n",
    "    # must set run name for each opSim to store metric data into\n",
    "    # separate files\n",
    "    maxairmassSky.setRunName(run)\n",
    "    CoaddY.setRunName(run)\n",
    "    metricGroup = metricBundles.MetricBundleGroup(bundleDict,\\\n",
    "                    opSimDbs[run], 'TestOutput/MetricData/', resultDbs[run])\n",
    "    metricGroup.runAll()"
   ]
  }
 ],
 "metadata": {
  "kernelspec": {
   "display_name": "Python 3",
   "language": "python",
   "name": "python3"
  },
  "language_info": {
   "codemirror_mode": {
    "name": "ipython",
    "version": 3
   },
   "file_extension": ".py",
   "mimetype": "text/x-python",
   "name": "python",
   "nbconvert_exporter": "python",
   "pygments_lexer": "ipython3",
   "version": "3.7.2"
  }
 },
 "nbformat": 4,
 "nbformat_minor": 2
}
